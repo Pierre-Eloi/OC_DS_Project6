{
 "cells": [
  {
   "cell_type": "markdown",
   "metadata": {},
   "source": [
    "# Project 6: Develop an automatic classification engine for consumer goods.\n",
    "*Pierre-eloi Ragetly*\n",
    "\n",
    "This project is part of the Data Scientist path proposed by OpenClassrooms.\n",
    "\n"
   ]
  },
  {
   "cell_type": "code",
   "execution_count": 1,
   "metadata": {
    "ExecuteTime": {
     "end_time": "2020-12-04T10:56:40.109516Z",
     "start_time": "2020-12-04T10:56:39.100775Z"
    }
   },
   "outputs": [],
   "source": [
    "# Import usual libraries\n",
    "import numpy as np\n",
    "import pandas as pd\n",
    "import os\n",
    "import time\n",
    "import re\n",
    "\n",
    "# to make this notebook's output stable across runs\n",
    "np.random.seed(89)\n",
    "\n",
    "# To plot pretty figures\n",
    "%matplotlib inline\n",
    "import matplotlib as mpl\n",
    "import matplotlib.pyplot as plt\n",
    "import seaborn as sns\n",
    "plt.rcParams.update({'axes.titleweight': 'bold',\n",
    "                     'axes.titlesize': 16,\n",
    "                     'axes.labelsize': 14,\n",
    "                     'xtick.labelsize': 12,\n",
    "                     'ytick.labelsize': 12})\n",
    "\n",
    "# Where to save the figures\n",
    "def save_fig(fig_id, tight_layout=True):\n",
    "    folder_path = os.path.join(\"charts\")\n",
    "    if not os.path.isdir(folder_path):\n",
    "        os.makedirs(folder_path)\n",
    "    path = os.path.join(\"charts\", fig_id + \".png\")\n",
    "    if tight_layout:\n",
    "        plt.tight_layout()\n",
    "    plt.savefig(path, format='png', dpi=300)"
   ]
  },
  {
   "cell_type": "markdown",
   "metadata": {
    "toc": true
   },
   "source": [
    "<h1>Table of Contents<span class=\"tocSkip\"></span></h1>\n",
    "<div class=\"toc\"><ul class=\"toc-item\"><li><span><a href=\"#Natural-Language-Processing-(NLP)\" data-toc-modified-id=\"Natural-Language-Processing-(NLP)-1\"><span class=\"toc-item-num\">1&nbsp;&nbsp;</span>Natural Language Processing (NLP)</a></span><ul class=\"toc-item\"><li><span><a href=\"#Text-preprocessing\" data-toc-modified-id=\"Text-preprocessing-1.1\"><span class=\"toc-item-num\">1.1&nbsp;&nbsp;</span>Text preprocessing</a></span><ul class=\"toc-item\"><li><span><a href=\"#Lower-casing\" data-toc-modified-id=\"Lower-casing-1.1.1\"><span class=\"toc-item-num\">1.1.1&nbsp;&nbsp;</span>Lower casing</a></span></li><li><span><a href=\"#Tokenization\" data-toc-modified-id=\"Tokenization-1.1.2\"><span class=\"toc-item-num\">1.1.2&nbsp;&nbsp;</span>Tokenization</a></span></li><li><span><a href=\"#Stop-words-removal\" data-toc-modified-id=\"Stop-words-removal-1.1.3\"><span class=\"toc-item-num\">1.1.3&nbsp;&nbsp;</span>Stop words removal</a></span></li><li><span><a href=\"#Lemmatization\" data-toc-modified-id=\"Lemmatization-1.1.4\"><span class=\"toc-item-num\">1.1.4&nbsp;&nbsp;</span>Lemmatization</a></span></li><li><span><a href=\"#Preprocessing-pipeline\" data-toc-modified-id=\"Preprocessing-pipeline-1.1.5\"><span class=\"toc-item-num\">1.1.5&nbsp;&nbsp;</span>Preprocessing pipeline</a></span></li></ul></li><li><span><a href=\"#Feature-extraction\" data-toc-modified-id=\"Feature-extraction-1.2\"><span class=\"toc-item-num\">1.2&nbsp;&nbsp;</span>Feature extraction</a></span><ul class=\"toc-item\"><li><span><a href=\"#Bag-of-words\" data-toc-modified-id=\"Bag-of-words-1.2.1\"><span class=\"toc-item-num\">1.2.1&nbsp;&nbsp;</span>Bag of words</a></span></li><li><span><a href=\"#TF-IDF\" data-toc-modified-id=\"TF-IDF-1.2.2\"><span class=\"toc-item-num\">1.2.2&nbsp;&nbsp;</span>TF-IDF</a></span></li><li><span><a href=\"#Word-Embedding-with-Word2Vec\" data-toc-modified-id=\"Word-Embedding-with-Word2Vec-1.2.3\"><span class=\"toc-item-num\">1.2.3&nbsp;&nbsp;</span>Word Embedding with Word2Vec</a></span></li></ul></li><li><span><a href=\"#Dimension-reduction\" data-toc-modified-id=\"Dimension-reduction-1.3\"><span class=\"toc-item-num\">1.3&nbsp;&nbsp;</span>Dimension reduction</a></span><ul class=\"toc-item\"><li><span><a href=\"#Latent-Dirichlet-Allocation-(LDA)\" data-toc-modified-id=\"Latent-Dirichlet-Allocation-(LDA)-1.3.1\"><span class=\"toc-item-num\">1.3.1&nbsp;&nbsp;</span>Latent Dirichlet Allocation (LDA)</a></span></li><li><span><a href=\"#Non-negative-Matrix-Factorization-(NMF)\" data-toc-modified-id=\"Non-negative-Matrix-Factorization-(NMF)-1.3.2\"><span class=\"toc-item-num\">1.3.2&nbsp;&nbsp;</span>Non-negative Matrix Factorization (NMF)</a></span></li><li><span><a href=\"#K-means\" data-toc-modified-id=\"K-means-1.3.3\"><span class=\"toc-item-num\">1.3.3&nbsp;&nbsp;</span>K-means</a></span><ul class=\"toc-item\"><li><span><a href=\"#with-Bag-of-words\" data-toc-modified-id=\"with-Bag-of-words-1.3.3.1\"><span class=\"toc-item-num\">1.3.3.1&nbsp;&nbsp;</span>with Bag-of-words</a></span></li><li><span><a href=\"#with-TF-IDF\" data-toc-modified-id=\"with-TF-IDF-1.3.3.2\"><span class=\"toc-item-num\">1.3.3.2&nbsp;&nbsp;</span>with TF-IDF</a></span></li><li><span><a href=\"#with-Word2Vec\" data-toc-modified-id=\"with-Word2Vec-1.3.3.3\"><span class=\"toc-item-num\">1.3.3.3&nbsp;&nbsp;</span>with Word2Vec</a></span></li></ul></li><li><span><a href=\"#Agglomerative-Clustering-(Ward)\" data-toc-modified-id=\"Agglomerative-Clustering-(Ward)-1.3.4\"><span class=\"toc-item-num\">1.3.4&nbsp;&nbsp;</span>Agglomerative Clustering (Ward)</a></span><ul class=\"toc-item\"><li><span><a href=\"#with-bag-of-words\" data-toc-modified-id=\"with-bag-of-words-1.3.4.1\"><span class=\"toc-item-num\">1.3.4.1&nbsp;&nbsp;</span>with bag-of-words</a></span></li><li><span><a href=\"#with-TF-IDF\" data-toc-modified-id=\"with-TF-IDF-1.3.4.2\"><span class=\"toc-item-num\">1.3.4.2&nbsp;&nbsp;</span>with TF-IDF</a></span></li><li><span><a href=\"#with-Word2Vec\" data-toc-modified-id=\"with-Word2Vec-1.3.4.3\"><span class=\"toc-item-num\">1.3.4.3&nbsp;&nbsp;</span>with Word2Vec</a></span></li></ul></li></ul></li><li><span><a href=\"#Data-Visualization\" data-toc-modified-id=\"Data-Visualization-1.4\"><span class=\"toc-item-num\">1.4&nbsp;&nbsp;</span>Data Visualization</a></span></li></ul></li></ul></div>"
   ]
  },
  {
   "cell_type": "markdown",
   "metadata": {},
   "source": [
    "# Get data"
   ]
  },
  {
   "cell_type": "code",
   "execution_count": 2,
   "metadata": {
    "ExecuteTime": {
     "end_time": "2020-12-04T10:56:40.132153Z",
     "start_time": "2020-12-04T10:56:40.111024Z"
    }
   },
   "outputs": [],
   "source": [
    "data = (pd.read_csv(\"data/Flipkart/flipkart_com-ecommerce_sample_1050.csv\")\n",
    "          .set_index('uniq_id'))"
   ]
  },
  {
   "cell_type": "code",
   "execution_count": 3,
   "metadata": {
    "ExecuteTime": {
     "end_time": "2020-12-04T10:56:40.145213Z",
     "start_time": "2020-12-04T10:56:40.135961Z"
    }
   },
   "outputs": [
    {
     "name": "stdout",
     "output_type": "stream",
     "text": [
      "<class 'pandas.core.frame.DataFrame'>\n",
      "Index: 1050 entries, 55b85ea15a1536d46b7190ad6fff8ce7 to f2f027ad6a6df617c9f125173da71e44\n",
      "Data columns (total 14 columns):\n",
      " #   Column                   Non-Null Count  Dtype  \n",
      "---  ------                   --------------  -----  \n",
      " 0   crawl_timestamp          1050 non-null   object \n",
      " 1   product_url              1050 non-null   object \n",
      " 2   product_name             1050 non-null   object \n",
      " 3   product_category_tree    1050 non-null   object \n",
      " 4   pid                      1050 non-null   object \n",
      " 5   retail_price             1049 non-null   float64\n",
      " 6   discounted_price         1049 non-null   float64\n",
      " 7   image                    1050 non-null   object \n",
      " 8   is_FK_Advantage_product  1050 non-null   bool   \n",
      " 9   description              1050 non-null   object \n",
      " 10  product_rating           1050 non-null   object \n",
      " 11  overall_rating           1050 non-null   object \n",
      " 12  brand                    712 non-null    object \n",
      " 13  product_specifications   1049 non-null   object \n",
      "dtypes: bool(1), float64(2), object(11)\n",
      "memory usage: 115.9+ KB\n"
     ]
    }
   ],
   "source": [
    "data.info()"
   ]
  },
  {
   "cell_type": "markdown",
   "metadata": {},
   "source": [
    "Let's start by extracting the category of each product. For this, we will use the *product_category_tree* feature and will keep the first level only with a regular expression."
   ]
  },
  {
   "cell_type": "code",
   "execution_count": 4,
   "metadata": {
    "ExecuteTime": {
     "end_time": "2020-12-04T10:56:40.151639Z",
     "start_time": "2020-12-04T10:56:40.146846Z"
    }
   },
   "outputs": [],
   "source": [
    "regex = r'^\\[\"(.+?) >>'\n",
    "categories = (pd.Series(data['product_category_tree'])\n",
    "                .apply(lambda x: re.findall(regex, x)[0]))"
   ]
  },
  {
   "cell_type": "markdown",
   "metadata": {},
   "source": [
    "The most promising attribute to automate the goods classification is the *description* feature, gathering text data. The problem with modeling text is that it is *messy*, while machine learning algorithms prefer well defined fixed-length inputs and outputs. Therefore, these algorithms cannot learn from the raw text directly, the latter must be previously converted into vectors of numbers. Let's see how it can be carried out."
   ]
  },
  {
   "cell_type": "markdown",
   "metadata": {},
   "source": [
    "## Natural Language Processing (NLP)"
   ]
  },
  {
   "cell_type": "markdown",
   "metadata": {
    "ExecuteTime": {
     "end_time": "2020-10-23T14:51:29.562050Z",
     "start_time": "2020-10-23T14:51:29.542308Z"
    }
   },
   "source": [
    "As previously said, before using any Machine Learning on text, the latter must be transformed into something an algorithm can digest: vectors of numbers. This process is called Natural Language Processing (NLP) and includes two sequential steps:\n",
    "1. Text Preprocessing\n",
    "2. Feature extraction\n",
    "\n",
    "The first one provides a clean and normalize dataset, while the second one converts the prepared text to a vector of numbers."
   ]
  },
  {
   "cell_type": "markdown",
   "metadata": {},
   "source": [
    "### Text preprocessing"
   ]
  },
  {
   "cell_type": "markdown",
   "metadata": {},
   "source": [
    "Text preprocessing, or data nomalization, is a process of converting data from the initial raw form into a format more suitable for further analysis.\n",
    "Since data are text and not numbers, we will not use the same techniques that for a classic data wrangling.  \n",
    "The most common ones used to prepare text data are listed below:\n",
    "- Lower casing &ndash; convert a word to lower case;\n",
    "- Tokenization &ndash; convert sentences to words;\n",
    "- Remove unnecessary punctuation, numbers;\n",
    "- Remove **stop words** &ndash; frequent words such as \"the\", \"a\", \"is\";\n",
    "- Use **Stemming** or **Lemmatization** to convert a word to its root/base form."
   ]
  },
  {
   "cell_type": "markdown",
   "metadata": {},
   "source": [
    "#### Lower casing"
   ]
  },
  {
   "cell_type": "markdown",
   "metadata": {},
   "source": [
    "Two words like Text and text, meaning exactly the same, will be considered as two different words. Consequently, it is highly adviced to convert all words to lower case before carring out any text pre-processing."
   ]
  },
  {
   "cell_type": "code",
   "execution_count": 5,
   "metadata": {
    "ExecuteTime": {
     "end_time": "2020-12-04T10:56:40.158243Z",
     "start_time": "2020-12-04T10:56:40.153675Z"
    }
   },
   "outputs": [],
   "source": [
    "corpus = data['description'].copy().str.lower()"
   ]
  },
  {
   "cell_type": "markdown",
   "metadata": {},
   "source": [
    "#### Tokenization"
   ]
  },
  {
   "cell_type": "markdown",
   "metadata": {},
   "source": [
    "Tokenization is defined as a process to split the text into smaller unit, i.e. tokens. The easiest way is white space tokenization, meaning split the text based on whitespace between two words.  \n",
    "One of the most used function is `word_tokenize()` from the *NLTK* (Natural Language ToolKit) python library. This function splits tokens based on white space and some punctuation marks such as `.` or `'`, but **not all** of them. Moreover, the methodology used to split contractions like \"isn't\" depends on the contraction itself and may make the stop words removal process (see section 1.1.4) really painful. For these reasons, it is much more prefered to use **regular expressions** (regex) and split the text by keeping alphanumeric characters only."
   ]
  },
  {
   "cell_type": "code",
   "execution_count": 6,
   "metadata": {
    "ExecuteTime": {
     "end_time": "2020-12-04T10:56:40.593726Z",
     "start_time": "2020-12-04T10:56:40.159907Z"
    }
   },
   "outputs": [],
   "source": [
    "from nltk.tokenize import RegexpTokenizer\n",
    "\n",
    "tokenizer = RegexpTokenizer(r'\\b\\w+\\b')\n",
    "tokens = (pd.Series(corpus)\n",
    "            .apply(tokenizer.tokenize))"
   ]
  },
  {
   "cell_type": "markdown",
   "metadata": {},
   "source": [
    "We can slightly change the regular expression to only keep letters and so, exclude numbers which are not of any interest here."
   ]
  },
  {
   "cell_type": "code",
   "execution_count": 7,
   "metadata": {
    "ExecuteTime": {
     "end_time": "2020-12-04T10:56:40.625278Z",
     "start_time": "2020-12-04T10:56:40.596706Z"
    }
   },
   "outputs": [],
   "source": [
    "tokenizer = RegexpTokenizer(r'\\b[a-zA-Z]+\\b')\n",
    "tokens = (pd.Series(corpus)\n",
    "            .apply(tokenizer.tokenize))"
   ]
  },
  {
   "cell_type": "markdown",
   "metadata": {},
   "source": [
    "#### Stop words removal"
   ]
  },
  {
   "cell_type": "markdown",
   "metadata": {},
   "source": [
    "*Stop words* are words that do not contribute to the deeper meaning of the sentence and so, do not really help to distinguish two different documents. Worse, they bring noise and may drop significantly the performance of the model. For this reason, they should be removed.   \n",
    "Stop words usually refer to the **most common** words such as \"and\", \"the\" or \"a\". But there is no *single universal list* of stopwords. The stop words list may change depending on the application.  \n",
    "\n",
    "To illustrate the importance of removing stop words, let's see what are the top 10 most used words before removing the stop words."
   ]
  },
  {
   "cell_type": "code",
   "execution_count": 8,
   "metadata": {
    "ExecuteTime": {
     "end_time": "2020-12-04T10:56:41.187367Z",
     "start_time": "2020-12-04T10:56:40.628274Z"
    }
   },
   "outputs": [
    {
     "data": {
      "image/png": "[encoded data removed]",
      "text/plain": [
       "<Figure size 432x288 with 1 Axes>"
      ]
     },
     "metadata": {
      "needs_background": "light"
     },
     "output_type": "display_data"
    }
   ],
   "source": [
    "from nltk import FreqDist\n",
    "\n",
    "words_flat = list(np.concatenate(tokens.values, axis=None))\n",
    "frequency = FreqDist(words_flat)\n",
    "top_words = sorted(frequency, key=frequency.__getitem__, reverse=True)[:10]\n",
    "counts = [frequency[k] for k in top_words]\n",
    "# Create the plot\n",
    "sns.barplot(x=top_words, y=counts, palette='Reds_r')\n",
    "plt.title(\"The top 10 words before removing stop words\")\n",
    "plt.ylim(bottom=500)\n",
    "plt.xlabel(\"top word\")\n",
    "plt.ylabel(\"counts\")\n",
    "save_fig(\"Top_words_before_removing_stop-words\")\n",
    "plt.show()"
   ]
  },
  {
   "cell_type": "markdown",
   "metadata": {},
   "source": [
    "All top words beyond \"only\" and \"rs\" (standing for indian rupees) are determiners, prepositions or conjunctions, and so clearly not help for finding the category of each product. Even \"only\" and \"rs\" do not realy help.  \n",
    "Let's compare now with the top word obtained after removing the stop words.\n",
    "\n",
    "As for tokenization, NLTK provides a list of common stop words for a variety of languages, such as English. This list can be found in the `stopwords` package. We will add the word \"rs\" to that list."
   ]
  },
  {
   "cell_type": "code",
   "execution_count": 9,
   "metadata": {
    "ExecuteTime": {
     "end_time": "2020-12-04T10:56:42.125642Z",
     "start_time": "2020-12-04T10:56:41.188841Z"
    }
   },
   "outputs": [
    {
     "name": "stdout",
     "output_type": "stream",
     "text": [
      "['i', 'me', 'my', 'myself', 'we', 'our', 'ours', 'ourselves', 'you', \"you're\", \"you've\", \"you'll\", \"you'd\", 'your', 'yours', 'yourself', 'yourselves', 'he', 'him', 'his', 'himself', 'she', \"she's\", 'her', 'hers', 'herself', 'it', \"it's\", 'its', 'itself', 'they', 'them', 'their', 'theirs', 'themselves', 'what', 'which', 'who', 'whom', 'this', 'that', \"that'll\", 'these', 'those', 'am', 'is', 'are', 'was', 'were', 'be', 'been', 'being', 'have', 'has', 'had', 'having', 'do', 'does', 'did', 'doing', 'a', 'an', 'the', 'and', 'but', 'if', 'or', 'because', 'as', 'until', 'while', 'of', 'at', 'by', 'for', 'with', 'about', 'against', 'between', 'into', 'through', 'during', 'before', 'after', 'above', 'below', 'to', 'from', 'up', 'down', 'in', 'out', 'on', 'off', 'over', 'under', 'again', 'further', 'then', 'once', 'here', 'there', 'when', 'where', 'why', 'how', 'all', 'any', 'both', 'each', 'few', 'more', 'most', 'other', 'some', 'such', 'no', 'nor', 'not', 'only', 'own', 'same', 'so', 'than', 'too', 'very', 's', 't', 'can', 'will', 'just', 'don', \"don't\", 'should', \"should've\", 'now', 'd', 'll', 'm', 'o', 're', 've', 'y', 'ain', 'aren', \"aren't\", 'couldn', \"couldn't\", 'didn', \"didn't\", 'doesn', \"doesn't\", 'hadn', \"hadn't\", 'hasn', \"hasn't\", 'haven', \"haven't\", 'isn', \"isn't\", 'ma', 'mightn', \"mightn't\", 'mustn', \"mustn't\", 'needn', \"needn't\", 'shan', \"shan't\", 'shouldn', \"shouldn't\", 'wasn', \"wasn't\", 'weren', \"weren't\", 'won', \"won't\", 'wouldn', \"wouldn't\"]\n"
     ]
    },
    {
     "data": {
      "image/png": "[encoded data removed]",
      "text/plain": [
       "<Figure size 648x360 with 1 Axes>"
      ]
     },
     "metadata": {
      "needs_background": "light"
     },
     "output_type": "display_data"
    }
   ],
   "source": [
    "from nltk.corpus import stopwords\n",
    "\n",
    "# Build the stop words corpus\n",
    "stop_words = stopwords.words('english')\n",
    "print(stop_words)\n",
    "stop_words.append(\"rs\")\n",
    "\n",
    "# filter out stop words\n",
    "words = tokens.copy()\n",
    "for i in range(len(words)):\n",
    "    words.iloc[i] = [w for w in words.iloc[i]\n",
    "                     if not w in stop_words]\n",
    "    \n",
    "# Get word frequencies\n",
    "words_flat = list(np.concatenate(words.values, axis=None))\n",
    "frequency = FreqDist(words_flat)\n",
    "top_words = sorted(frequency, key=frequency.__getitem__, reverse=True)[:10]\n",
    "counts = [frequency[k] for k in top_words]\n",
    "\n",
    "# Plot top words\n",
    "plt.figure(figsize=(9, 5))\n",
    "sns.barplot(x=top_words, y=counts, palette='Reds_r')\n",
    "plt.title(\"The top 10 words after stop words removal\")\n",
    "plt.ylim(bottom=500)\n",
    "plt.xlabel(\"top word\")\n",
    "plt.ylabel(\"counts\")\n",
    "save_fig(\"Top_words_after_removing_stop-words\")\n",
    "plt.show()"
   ]
  },
  {
   "cell_type": "markdown",
   "metadata": {},
   "source": [
    "It is much better, we will stop here for stop words (even if we could also remove the word \"cm\")."
   ]
  },
  {
   "cell_type": "markdown",
   "metadata": {},
   "source": [
    "#### Lemmatization"
   ]
  },
  {
   "cell_type": "markdown",
   "metadata": {},
   "source": [
    "The purpose of stemming or Lemmatization is to reduce words like \"studies\" to a root word (\"studi\") or a canonical form (\"study\") respectively. Though it is much more easier to develop a stemmer than a lemmatizer (which requires deep linguistics knowledge to build the lemma of each word), the latter is prefered. The noise will be more reduced and so, the results provided more accurate. We will use the `wordnet` class."
   ]
  },
  {
   "cell_type": "code",
   "execution_count": 10,
   "metadata": {
    "ExecuteTime": {
     "end_time": "2020-12-04T10:56:43.785395Z",
     "start_time": "2020-12-04T10:56:42.127235Z"
    }
   },
   "outputs": [],
   "source": [
    "from nltk.corpus import wordnet as wn\n",
    "\n",
    "def get_lemma(word):\n",
    "    lemma = wn.morphy(word)\n",
    "    if lemma is None:\n",
    "        return word\n",
    "    else:\n",
    "        return lemma\n",
    "for i in range(len(words)):\n",
    "    words.iloc[i] = [get_lemma(w)\n",
    "                     for w in words[i]]"
   ]
  },
  {
   "cell_type": "code",
   "execution_count": null,
   "metadata": {},
   "outputs": [],
   "source": []
  },
  {
   "cell_type": "markdown",
   "metadata": {},
   "source": [
    "#### Preprocessing pipeline "
   ]
  },
  {
   "cell_type": "markdown",
   "metadata": {},
   "source": [
    "All steps previously presented have been gathered in a pipeline. To avoid words such as \"rs\" or \"cm, the regular expression has been slightly changed. In this pipeline, the latter selects tokens of 3 or more characters."
   ]
  },
  {
   "cell_type": "code",
   "execution_count": 11,
   "metadata": {
    "ExecuteTime": {
     "end_time": "2020-12-04T10:56:43.790577Z",
     "start_time": "2020-12-04T10:56:43.786517Z"
    }
   },
   "outputs": [],
   "source": [
    "def prepare_text(text):\n",
    "    \"\"\"Function to prepare text before realizing NLP.\n",
    "    It includes the following steps:\n",
    "    1. Lower Casing\n",
    "    2. Tokenization (with regex exluding numbers and punctuations)\n",
    "    3. Stop words removal\n",
    "    4. Lemmatization\"\"\"\n",
    "    tokenizer = RegexpTokenizer(r'\\b[a-zA-Z]{3,}\\b')\n",
    "    tokens = tokenizer.tokenize(text.lower())\n",
    "    stop_words = stopwords.words('english')\n",
    "    tokens = [token for token in tokens\n",
    "              if not token in stop_words]\n",
    "    tokens = [get_lemma(token)\n",
    "              for token in tokens]\n",
    "    return tokens"
   ]
  },
  {
   "cell_type": "code",
   "execution_count": 12,
   "metadata": {
    "ExecuteTime": {
     "end_time": "2020-12-04T10:56:44.508528Z",
     "start_time": "2020-12-04T10:56:43.792635Z"
    }
   },
   "outputs": [],
   "source": [
    "corpus = pd.Series(data['description'])\n",
    "for i, text in enumerate(corpus):\n",
    "    corpus.iloc[i] = prepare_text(text)"
   ]
  },
  {
   "cell_type": "markdown",
   "metadata": {},
   "source": [
    "### Feature extraction"
   ]
  },
  {
   "cell_type": "markdown",
   "metadata": {},
   "source": [
    "In text processing, words represent **discrete, categorical features**. These kind of features cannot be directly used by a machine learning algorithm, and must be before encoded into vectors of numbers. This process is called **feature extraction**."
   ]
  },
  {
   "cell_type": "markdown",
   "metadata": {},
   "source": [
    "#### Bag of words"
   ]
  },
  {
   "cell_type": "markdown",
   "metadata": {},
   "source": [
    "One of the most popular and simplest feature extraction technique is likely the **bag-of-words** model. This model counts the occurence of each word within a document. Any information about **the order**, **grammar** or **structure** of words is discarded, only the multiplicity is kept. That is why actually, it is called a **bag** of words.\n",
    "\n",
    "The main assumption **is that similar documents have similar contents** and so, the content may learn something about the meaning of the document to us.\n",
    "\n",
    "The bag-of-word involves two steps:\n",
    "1. Build a vocabulary with all the unique words present in the data provided;\n",
    "2. Count the occurence of the known words for each document.\n",
    "\n",
    "The result is a $(m, p)$ **sparse** array with $m$ the number of documents and $p$ the number of words present in the corpus.  \n",
    "To get this array we can use the class `CountVectorizer` from the `sklearn.feature_extraction.text` package. This class enables **text preprocessing** in addition of **feature extraction**. However, some fancy analysis such as *stemming* or *lemmatizing* are **not included**, for this reason we will use our **prepared dataset** (got with the pipeline detailed above) intead of raw data by passing `analyzer=str.split`. Note that prepared data must be stored with tokens **separated by whitespace** and not as a list of tokens."
   ]
  },
  {
   "cell_type": "code",
   "execution_count": 14,
   "metadata": {
    "ExecuteTime": {
     "end_time": "2020-12-04T10:56:47.246278Z",
     "start_time": "2020-12-04T10:56:47.213808Z"
    }
   },
   "outputs": [
    {
     "name": "stdout",
     "output_type": "stream",
     "text": [
      "Number of unique words in the corpus: 4171\n"
     ]
    }
   ],
   "source": [
    "from sklearn.feature_extraction.text import CountVectorizer\n",
    "\n",
    "# Store clean data with tokens separated by whitespace\n",
    "corpus_whitespace = [\" \".join(tokens) for tokens in corpus]\n",
    "\n",
    "# Convert text into vectors of numbers\n",
    "vect_bow = CountVectorizer(analyzer=str.split)\n",
    "X_bow = vect_bow.fit_transform(corpus_whitespace)\n",
    "n = len(vect_bow.get_feature_names())\n",
    "print(\"Number of unique words in the corpus: {}\".format(n))"
   ]
  },
  {
   "cell_type": "markdown",
   "metadata": {},
   "source": [
    "#### TF-IDF"
   ]
  },
  {
   "cell_type": "markdown",
   "metadata": {},
   "source": [
    "One problem with scoring word frequency &ndash; like the *bag-of-words* does &ndash; is that the most frequent words in the english language will have a high score for each document. Removing the stop of words reduces the problem, but does not solve it totally.  \n",
    "These frequent words may not content as much **information gain** to the model compared with some rarer and domain-specific words. One approach to fix that problem is to penalize words that are **frequent across all the documents**. the **TF-IDF** technique, standing for Term Frequency - Inverse Document Frequency, is based on this approach.\n",
    "\n",
    "Let' see what TF and IDF mean:\n",
    "- Term Frequency (TF) = Number of times a term $t$ appears in the document $/$ Total number of terms in this document\n",
    "- Inverse Document Frequency (IDF) = $log($Number of documents $/$ number of documents containing the $t$ term$)$\n",
    "\n",
    "$$\\text{score(t)} = \\text{tf(t)} \\times log\\left( \\frac{n}{\\text{df(t)}} \\right)$$\n",
    "\n",
    "As for *the bag-of-words*, we can use the `sklearn.feature_extraction.text` package and its `TfidfVectorizer` class to calculate the TF-IDF scores. Please note that in the sklearn library, the idf computing differs slightly from the standard textbook: a $1$ count is added to the idf to make sure terms with zero idf (when df(t) = $n$) do not be suppressed entirely.\n",
    "$$\\text{idf(t)}= log\\left( \\frac{n + \\text{smooth_idf}}{\\text{df(t)} + \\text{smooth_idf}} \\right) + 1$$\n",
    "The parameter $\\text{smooth_idf}$ is a boolean (takes only 2 values: 1 or 0). preventing zero divisions. When $\\text{smooth_idf}$ = 1, it is as if an extra document containing all words of the vocabulary was added to the corpus.  \n",
    "By construction, only words present in at least one document can be added to the vocabulary, so the zero division should not occur. That is why, it was prefered to use the *False* (0) value for this parameter."
   ]
  },
  {
   "cell_type": "code",
   "execution_count": 15,
   "metadata": {
    "ExecuteTime": {
     "end_time": "2020-12-04T10:56:47.278357Z",
     "start_time": "2020-12-04T10:56:47.247769Z"
    }
   },
   "outputs": [],
   "source": [
    "from sklearn.feature_extraction.text import TfidfVectorizer\n",
    "\n",
    "# Convert text into vectors of numbers with TF-IDF\n",
    "vect_tfidf = TfidfVectorizer(analyzer=str.split,\n",
    "                             smooth_idf=False)\n",
    "X_tfidf = vect_tfidf.fit_transform(corpus_whitespace)"
   ]
  },
  {
   "cell_type": "markdown",
   "metadata": {},
   "source": [
    "#### Word Embedding with Word2Vec"
   ]
  },
  {
   "cell_type": "markdown",
   "metadata": {},
   "source": [
    "Techniques based on word frequency like the Bag of words or TF-IDF suffer from two majors problems:\n",
    "1. dimensionality problem: the more documents you have the larger is the vocabulary, so the feature matrix will be a huge sparse matrix;\n",
    "2. They ignore the context by discarding word order. As a consequence, the distance between vectors doesn't always reflect the difference in meaning.\n",
    "\n",
    "New techniques have been developed early 2010's to address both problems. These techniques, called **Word Embedding**, use another approach based on the **distributional hypothesis**:\n",
    "\n",
    "*linguisic items with similar distribution have similar meanings.*\n",
    "\n",
    "They produce a **vector space** (with a number of dimensions between tens to hundreds) where each word from the vocabulary are represented by vectors of real numbers. These vectors are calculated from the probability distribution for each word appearing **before** or **after** another.\n",
    "\n",
    "In other words, as words of the same context usually appear together in the corpus, they will be located close to one another in the vector space as well. \n",
    "\n",
    "Most popular Word Embedding models are:\n",
    "- Google's **Word2Vec** (2013)\n",
    "- Stanford's **Glove** (2014)\n",
    "- Facebook's **FastText** (2016)\n",
    "\n",
    "We will choose **Word2Vec** which uses neural networks with a single hidden layer to map text to vectors. The vector space dimension is determined by the number of neurons in the hidden layer, and the *word vector* is merely the weights of these neurons. Two different architectures can be used:\n",
    "- **Continuous Bag of Words** (CBOW)\n",
    "- **Skip-Gram**\n",
    "\n",
    "*CBOW* is the most used. This model tries to predict a target word based on the words surrounding it. These neighboring words are determined by a predefined *window* size (a hyper-parameter) surrounding the target words, the formers represent the **context**. As for the bag-of-words, the order of context words does not have any influcence on the prediction.  \n",
    "The *Skip-Gram* model does the **opposite**. Here, target word is input while context words are output. As there are more than one context word to be predicted, skip-gram is slower and harder to be trained. However, it does better job for infrequent words.\n",
    "\n",
    "As our dataset is very limited, we will a use **pre-trained** model instead of training our own one. The `Gensim` Python library is a very popular NLP library, and makes NLP models such as Word2Vec very easy to use. Let's see which pre-trained models are included in this library."
   ]
  },
  {
   "cell_type": "code",
   "execution_count": 16,
   "metadata": {
    "ExecuteTime": {
     "end_time": "2020-12-04T10:56:49.578459Z",
     "start_time": "2020-12-04T10:56:47.279645Z"
    },
    "scrolled": false
   },
   "outputs": [
    {
     "name": "stdout",
     "output_type": "stream",
     "text": [
      "1. fasttext-wiki-news-subwords-300: 1 million word vectors trained on Wikipedia 2017, UMBC webbase corpus and statmt.org news dataset (16B tokens).\n",
      "2. conceptnet-numberbatch-17-06-300: ConceptNet Numberbatch consists of state-of-the-art semantic vectors (also known as word embeddings) that can be used directly as a representation of word meanings or as a starting point for further machine learning. ConceptNet Numberbatch is part of the ConceptNet open data project. ConceptNet provides lots of ways to compute with word meanings, one of which is word embeddings. ConceptNet Numberbatch is a snapshot of just the word embeddings. It is built using an ensemble that combines data from ConceptNet, word2vec, GloVe, and OpenSubtitles 2016, using a variation on retrofitting.\n",
      "3. word2vec-ruscorpora-300: Word2vec Continuous Skipgram vectors trained on full Russian National Corpus (about 250M words). The model contains 185K words.\n",
      "4. word2vec-google-news-300: Pre-trained vectors trained on a part of the Google News dataset (about 100 billion words). The model contains 300-dimensional vectors for 3 million words and phrases. The phrases were obtained using a simple data-driven approach described in 'Distributed Representations of Words and Phrases and their Compositionality' (https://code.google.com/archive/p/word2vec/).\n",
      "5. glove-wiki-gigaword-50: Pre-trained vectors based on Wikipedia 2014 + Gigaword, 5.6B tokens, 400K vocab, uncased (https://nlp.stanford.edu/projects/glove/).\n",
      "6. glove-wiki-gigaword-100: Pre-trained vectors based on Wikipedia 2014 + Gigaword 5.6B tokens, 400K vocab, uncased (https://nlp.stanford.edu/projects/glove/).\n",
      "7. glove-wiki-gigaword-200: Pre-trained vectors based on Wikipedia 2014 + Gigaword, 5.6B tokens, 400K vocab, uncased (https://nlp.stanford.edu/projects/glove/).\n",
      "8. glove-wiki-gigaword-300: Pre-trained vectors based on Wikipedia 2014 + Gigaword, 5.6B tokens, 400K vocab, uncased (https://nlp.stanford.edu/projects/glove/).\n",
      "9. glove-twitter-25: Pre-trained vectors based on 2B tweets, 27B tokens, 1.2M vocab, uncased (https://nlp.stanford.edu/projects/glove/).\n",
      "10. glove-twitter-50: Pre-trained vectors based on 2B tweets, 27B tokens, 1.2M vocab, uncased (https://nlp.stanford.edu/projects/glove/)\n",
      "11. glove-twitter-100: Pre-trained vectors based on  2B tweets, 27B tokens, 1.2M vocab, uncased (https://nlp.stanford.edu/projects/glove/)\n",
      "12. glove-twitter-200: Pre-trained vectors based on 2B tweets, 27B tokens, 1.2M vocab, uncased (https://nlp.stanford.edu/projects/glove/).\n",
      "13. __testing_word2vec-matrix-synopsis: [THIS IS ONLY FOR TESTING] Word vecrors of the movie matrix.\n"
     ]
    }
   ],
   "source": [
    "import gensim.downloader as api\n",
    "\n",
    "for i, model in enumerate(api.info()['models']):\n",
    "    description = api.info()['models'][model]['description']\n",
    "    print(\"{}. {}: {}\".format(i+1, model, description))"
   ]
  },
  {
   "cell_type": "markdown",
   "metadata": {},
   "source": [
    "There is only one word2vec model trained on an english corpus:\n",
    "\n",
    "**word2vec-google-news-300**.\n",
    "\n",
    "So, we will use this one.\n",
    "\n",
    "The main limitation of Word2Vec is that the model is unable to infer vectors for **unfamiliar** words. If it might be problematic, then it would be bette to use **FastText** instead.  \n",
    "Here, all words that were not included in the pre-trained model have been discarded.\n",
    "\n",
    "Afer having encoded all words with Word2Vec, we merely need to calculate the **centroid** to encode the whole document by just one vector. This document vector have the same dimension than the word vectors (300)."
   ]
  },
  {
   "cell_type": "code",
   "execution_count": 17,
   "metadata": {
    "ExecuteTime": {
     "end_time": "2020-12-04T10:56:49.586109Z",
     "start_time": "2020-12-04T10:56:49.579887Z"
    }
   },
   "outputs": [],
   "source": [
    "def feature_extraction_w2v(w2v, tokens):\n",
    "    # Keep only words for which it is possible to infer a vector\n",
    "    words_to_del = []\n",
    "    for t in tokens:\n",
    "        try:\n",
    "            w2v[t]\n",
    "        except KeyError:\n",
    "            if t not in words_to_del:\n",
    "                words_to_del.append(t)\n",
    "    tokens = [t for t in tokens\n",
    "              if t not in words_to_del]\n",
    "    # Get word vectors\n",
    "    m = len(tokens)\n",
    "    p = w2v.vector_size\n",
    "    X = np.zeros((m, p))\n",
    "    for i, t in enumerate(tokens):\n",
    "        X[i] = w2v[t]\n",
    "    return np.mean(X, axis=0) # return the centroid         "
   ]
  },
  {
   "cell_type": "code",
   "execution_count": 18,
   "metadata": {
    "ExecuteTime": {
     "end_time": "2020-12-04T10:57:24.015128Z",
     "start_time": "2020-12-04T10:56:49.587720Z"
    }
   },
   "outputs": [
    {
     "name": "stdout",
     "output_type": "stream",
     "text": [
      "(1050, 300)\n"
     ]
    }
   ],
   "source": [
    "w2v = api.load('word2vec-google-news-300')\n",
    "\n",
    "m = len(corpus)\n",
    "corpus_w2v = []\n",
    "for i in range(m):\n",
    "    corpus_w2v.append(feature_extraction_w2v(w2v, corpus[i]))\n",
    "X_w2v = np.array(corpus_w2v)\n",
    "print(X_w2v.shape)"
   ]
  },
  {
   "cell_type": "markdown",
   "metadata": {},
   "source": [
    "### Dimension reduction"
   ]
  },
  {
   "cell_type": "markdown",
   "metadata": {},
   "source": [
    "Now that each description has been encoded into a vector, we can use common machine learning algorithms for dimension reduction. Let's start with the most popular in natural language processing, the **Latent Dirichlet Allocation** (LDA) model."
   ]
  },
  {
   "cell_type": "markdown",
   "metadata": {},
   "source": [
    "#### Latent Dirichlet Allocation (LDA)"
   ]
  },
  {
   "cell_type": "markdown",
   "metadata": {},
   "source": [
    "The LDA model is very popular to classify documents and estimate their relevance to a set of topics. It is a generative statistical model where each document is viewed as a *mixture* of various topics. The topic distribution is assumed to have a sparse *Dirichlet prior* meaning that documents cover only a small set of topics and that topics use only a small set of words frequently. The corpus will be encoded into bag-of-words prior to run the LDA model.\n",
    "\n",
    "We will use the class `LatentDirichletAllocation` from the `sklearn.decomposition` package."
   ]
  },
  {
   "cell_type": "code",
   "execution_count": 19,
   "metadata": {
    "ExecuteTime": {
     "end_time": "2020-12-04T10:57:25.558842Z",
     "start_time": "2020-12-04T10:57:24.016489Z"
    }
   },
   "outputs": [
    {
     "data": {
      "text/plain": [
       "LatentDirichletAllocation(n_components=7, n_jobs=-1, random_state=42)"
      ]
     },
     "execution_count": 19,
     "metadata": {},
     "output_type": "execute_result"
    }
   ],
   "source": [
    "from sklearn.decomposition import LatentDirichletAllocation\n",
    "\n",
    "lda = LatentDirichletAllocation(n_components=7,\n",
    "                                learning_method='batch',\n",
    "                                random_state=42,\n",
    "                                n_jobs=-1)\n",
    "lda.fit(X_bow)"
   ]
  },
  {
   "cell_type": "markdown",
   "metadata": {},
   "source": [
    "Let's see what are the topics found by LDA by listing the 10 most representative words for each one. We will try after to assign each topic to a category."
   ]
  },
  {
   "cell_type": "code",
   "execution_count": 20,
   "metadata": {
    "ExecuteTime": {
     "end_time": "2020-12-04T10:57:25.563170Z",
     "start_time": "2020-12-04T10:57:25.560460Z"
    }
   },
   "outputs": [],
   "source": [
    "# display the top words for each topic\n",
    "def display_topics(model, feature_names, n_top_words):\n",
    "    for topic_idx, topic in enumerate(model.components_):\n",
    "        print(\"Topic {}:\".format(topic_idx))\n",
    "        print(\" \".join([feature_names[i]\n",
    "                        for i in topic.argsort()[:-n_top_words - 1:-1]]))"
   ]
  },
  {
   "cell_type": "code",
   "execution_count": 21,
   "metadata": {
    "ExecuteTime": {
     "end_time": "2020-12-04T10:57:25.571121Z",
     "start_time": "2020-12-04T10:57:25.564423Z"
    }
   },
   "outputs": [
    {
     "name": "stdout",
     "output_type": "stream",
     "text": [
      "Topic 0:\n",
      "towel product bath blanket cotton quilt price face double wall\n",
      "Topic 1:\n",
      "mug ceramic coffee perfect gift design love one material make\n",
      "Topic 2:\n",
      "baby cotton print pack package fabric general sales specification girl\n",
      "Topic 3:\n",
      "watch analog men woman great discount india dial strap boy\n",
      "Topic 4:\n",
      "usb battery light power led laptop quality high use price\n",
      "Topic 5:\n",
      "free delivery shipping genuine cash product buy flipkart com replacement\n",
      "Topic 6:\n",
      "warranty adapter feature design product make type box price specification\n"
     ]
    }
   ],
   "source": [
    "n_top_words = 10\n",
    "display_topics(lda,\n",
    "               vect_bow.get_feature_names(),\n",
    "               n_top_words)"
   ]
  },
  {
   "cell_type": "code",
   "execution_count": 22,
   "metadata": {
    "ExecuteTime": {
     "end_time": "2020-12-04T10:57:25.579761Z",
     "start_time": "2020-12-04T10:57:25.576633Z"
    }
   },
   "outputs": [
    {
     "data": {
      "text/plain": [
       "array(['Home Furnishing', 'Baby Care', 'Watches',\n",
       "       'Home Decor & Festive Needs', 'Kitchen & Dining',\n",
       "       'Beauty and Personal Care', 'Computers'], dtype=object)"
      ]
     },
     "execution_count": 22,
     "metadata": {},
     "output_type": "execute_result"
    }
   ],
   "source": [
    "categories.unique()"
   ]
  },
  {
   "cell_type": "markdown",
   "metadata": {},
   "source": [
    "Just with top words, most of topics (all except 5) can be quite easily assigned to a category:\n",
    "- topic 0 --> Beauty and Personal Care\n",
    "- topic 1 --> Kitchen & Dining\n",
    "- topic 2 --> Baby Care\n",
    "- topic 3 --> Watches\n",
    "- topic 4 --> Computers\n",
    "- topic 6 --> Home Decor & Festive Needs\n",
    "\n",
    "Let's build a function to automate the category assignment. We will compute the frequency of all categories for each topic find by the model. Then, each topic will be assigned to the category with the biggest frequency."
   ]
  },
  {
   "cell_type": "code",
   "execution_count": 91,
   "metadata": {
    "ExecuteTime": {
     "end_time": "2020-12-04T15:51:06.276814Z",
     "start_time": "2020-12-04T15:51:06.273593Z"
    }
   },
   "outputs": [],
   "source": [
    "def assign_cluster(labels, mask=np.ones(1)):\n",
    "    labels_unique = np.unique(labels)\n",
    "    dic_cat = {}\n",
    "    for label in labels_unique:\n",
    "        in_label = (labels==label)\n",
    "        if len(mask) > 1:\n",
    "            dic_cat[label] = categories[in_label & mask].value_counts().index[0]\n",
    "        else:\n",
    "            dic_cat[label] = categories[in_label].value_counts().index[0] \n",
    "    return dic_cat        "
   ]
  },
  {
   "cell_type": "code",
   "execution_count": 48,
   "metadata": {
    "ExecuteTime": {
     "end_time": "2020-12-04T15:06:46.096358Z",
     "start_time": "2020-12-04T15:06:45.439588Z"
    }
   },
   "outputs": [
    {
     "data": {
      "text/plain": [
       "{0: 'Beauty and Personal Care',\n",
       " 1: 'Kitchen & Dining',\n",
       " 2: 'Baby Care',\n",
       " 3: 'Watches',\n",
       " 4: 'Computers',\n",
       " 5: 'Computers',\n",
       " 6: 'Home Decor & Festive Needs'}"
      ]
     },
     "execution_count": 48,
     "metadata": {},
     "output_type": "execute_result"
    }
   ],
   "source": [
    "labels_lda = lda.transform(X_bow).argsort(axis=1)[:, -1]\n",
    "dic_lda = assign_cluster(labels_lda)\n",
    "dic_lda"
   ]
  },
  {
   "cell_type": "markdown",
   "metadata": {},
   "source": [
    "It seems that the LDA model was not able to identify the Home Furnishing category. Let's build a confusion matrix to see the model performance."
   ]
  },
  {
   "cell_type": "code",
   "execution_count": 49,
   "metadata": {
    "ExecuteTime": {
     "end_time": "2020-12-04T15:06:47.468503Z",
     "start_time": "2020-12-04T15:06:47.464007Z"
    }
   },
   "outputs": [],
   "source": [
    "from sklearn.metrics import confusion_matrix\n",
    "from sklearn.metrics import accuracy_score\n",
    "from sklearn.metrics import recall_score\n",
    "from sklearn.metrics import precision_score\n",
    "\n",
    "\n",
    "def confusion_matrix_tuned(dic, labels): \n",
    "    y_true = categories.values\n",
    "    y_pred = [dic[label] for label in labels]\n",
    "    cat_names = categories.sort_values().unique()\n",
    "    labels_true = [cat + \"_true\" for cat in cat_names]\n",
    "    labels_pred = [label + \"_pred\" for label in cat_names]\n",
    "    print(\"accuracy: {}\".format(accuracy_score(y_true, y_pred)))\n",
    "    print(\"recall: {}\".format(recall_score(y_true, y_pred,\n",
    "                                           average='weighted',\n",
    "                                           zero_division=0)))\n",
    "    print(\"precision: {}\".format(precision_score(y_true, y_pred,\n",
    "                                                 average='weighted',\n",
    "                                                zero_division=0)))\n",
    "    return pd.DataFrame(confusion_matrix(y_true, y_pred),\n",
    "                        columns=labels_pred,\n",
    "                        index=labels_true)"
   ]
  },
  {
   "cell_type": "code",
   "execution_count": 50,
   "metadata": {
    "ExecuteTime": {
     "end_time": "2020-12-04T15:06:52.001704Z",
     "start_time": "2020-12-04T15:06:51.975834Z"
    }
   },
   "outputs": [
    {
     "name": "stdout",
     "output_type": "stream",
     "text": [
      "accuracy: 0.41619047619047617\n",
      "recall: 0.41619047619047617\n",
      "precision: 0.44286680668039663\n"
     ]
    },
    {
     "data": {
      "text/html": [
       "<div>\n",
       "<style scoped>\n",
       "    .dataframe tbody tr th:only-of-type {\n",
       "        vertical-align: middle;\n",
       "    }\n",
       "\n",
       "    .dataframe tbody tr th {\n",
       "        vertical-align: top;\n",
       "    }\n",
       "\n",
       "    .dataframe thead th {\n",
       "        text-align: right;\n",
       "    }\n",
       "</style>\n",
       "<table border=\"1\" class=\"dataframe\">\n",
       "  <thead>\n",
       "    <tr style=\"text-align: right;\">\n",
       "      <th></th>\n",
       "      <th>Baby Care_pred</th>\n",
       "      <th>Beauty and Personal Care_pred</th>\n",
       "      <th>Computers_pred</th>\n",
       "      <th>Home Decor &amp; Festive Needs_pred</th>\n",
       "      <th>Home Furnishing_pred</th>\n",
       "      <th>Kitchen &amp; Dining_pred</th>\n",
       "      <th>Watches_pred</th>\n",
       "    </tr>\n",
       "  </thead>\n",
       "  <tbody>\n",
       "    <tr>\n",
       "      <th>Baby Care_true</th>\n",
       "      <td>100</td>\n",
       "      <td>3</td>\n",
       "      <td>40</td>\n",
       "      <td>3</td>\n",
       "      <td>0</td>\n",
       "      <td>2</td>\n",
       "      <td>2</td>\n",
       "    </tr>\n",
       "    <tr>\n",
       "      <th>Beauty and Personal Care_true</th>\n",
       "      <td>12</td>\n",
       "      <td>9</td>\n",
       "      <td>98</td>\n",
       "      <td>12</td>\n",
       "      <td>0</td>\n",
       "      <td>5</td>\n",
       "      <td>14</td>\n",
       "    </tr>\n",
       "    <tr>\n",
       "      <th>Computers_true</th>\n",
       "      <td>8</td>\n",
       "      <td>3</td>\n",
       "      <td>121</td>\n",
       "      <td>17</td>\n",
       "      <td>0</td>\n",
       "      <td>0</td>\n",
       "      <td>1</td>\n",
       "    </tr>\n",
       "    <tr>\n",
       "      <th>Home Decor &amp; Festive Needs_true</th>\n",
       "      <td>11</td>\n",
       "      <td>3</td>\n",
       "      <td>77</td>\n",
       "      <td>50</td>\n",
       "      <td>0</td>\n",
       "      <td>4</td>\n",
       "      <td>5</td>\n",
       "    </tr>\n",
       "    <tr>\n",
       "      <th>Home Furnishing_true</th>\n",
       "      <td>53</td>\n",
       "      <td>8</td>\n",
       "      <td>77</td>\n",
       "      <td>5</td>\n",
       "      <td>0</td>\n",
       "      <td>2</td>\n",
       "      <td>5</td>\n",
       "    </tr>\n",
       "    <tr>\n",
       "      <th>Kitchen &amp; Dining_true</th>\n",
       "      <td>7</td>\n",
       "      <td>4</td>\n",
       "      <td>53</td>\n",
       "      <td>17</td>\n",
       "      <td>0</td>\n",
       "      <td>67</td>\n",
       "      <td>2</td>\n",
       "    </tr>\n",
       "    <tr>\n",
       "      <th>Watches_true</th>\n",
       "      <td>4</td>\n",
       "      <td>1</td>\n",
       "      <td>54</td>\n",
       "      <td>0</td>\n",
       "      <td>0</td>\n",
       "      <td>1</td>\n",
       "      <td>90</td>\n",
       "    </tr>\n",
       "  </tbody>\n",
       "</table>\n",
       "</div>"
      ],
      "text/plain": [
       "                                 Baby Care_pred  \\\n",
       "Baby Care_true                              100   \n",
       "Beauty and Personal Care_true                12   \n",
       "Computers_true                                8   \n",
       "Home Decor & Festive Needs_true              11   \n",
       "Home Furnishing_true                         53   \n",
       "Kitchen & Dining_true                         7   \n",
       "Watches_true                                  4   \n",
       "\n",
       "                                 Beauty and Personal Care_pred  \\\n",
       "Baby Care_true                                               3   \n",
       "Beauty and Personal Care_true                                9   \n",
       "Computers_true                                               3   \n",
       "Home Decor & Festive Needs_true                              3   \n",
       "Home Furnishing_true                                         8   \n",
       "Kitchen & Dining_true                                        4   \n",
       "Watches_true                                                 1   \n",
       "\n",
       "                                 Computers_pred  \\\n",
       "Baby Care_true                               40   \n",
       "Beauty and Personal Care_true                98   \n",
       "Computers_true                              121   \n",
       "Home Decor & Festive Needs_true              77   \n",
       "Home Furnishing_true                         77   \n",
       "Kitchen & Dining_true                        53   \n",
       "Watches_true                                 54   \n",
       "\n",
       "                                 Home Decor & Festive Needs_pred  \\\n",
       "Baby Care_true                                                 3   \n",
       "Beauty and Personal Care_true                                 12   \n",
       "Computers_true                                                17   \n",
       "Home Decor & Festive Needs_true                               50   \n",
       "Home Furnishing_true                                           5   \n",
       "Kitchen & Dining_true                                         17   \n",
       "Watches_true                                                   0   \n",
       "\n",
       "                                 Home Furnishing_pred  Kitchen & Dining_pred  \\\n",
       "Baby Care_true                                      0                      2   \n",
       "Beauty and Personal Care_true                       0                      5   \n",
       "Computers_true                                      0                      0   \n",
       "Home Decor & Festive Needs_true                     0                      4   \n",
       "Home Furnishing_true                                0                      2   \n",
       "Kitchen & Dining_true                               0                     67   \n",
       "Watches_true                                        0                      1   \n",
       "\n",
       "                                 Watches_pred  \n",
       "Baby Care_true                              2  \n",
       "Beauty and Personal Care_true              14  \n",
       "Computers_true                              1  \n",
       "Home Decor & Festive Needs_true             5  \n",
       "Home Furnishing_true                        5  \n",
       "Kitchen & Dining_true                       2  \n",
       "Watches_true                               90  "
      ]
     },
     "execution_count": 50,
     "metadata": {},
     "output_type": "execute_result"
    }
   ],
   "source": [
    "confusion_matrix_tuned(dic_lda, labels_lda)"
   ]
  },
  {
   "cell_type": "markdown",
   "metadata": {},
   "source": [
    "#### Non-negative Matrix Factorization (NMF)"
   ]
  },
  {
   "cell_type": "markdown",
   "metadata": {},
   "source": [
    "The Non-negative Matrix is another popular technique for topic modeling. As the LDA, it takes in input the word frequencies. However, the use of a bag-of-words is not required (contrary to the LDA), a TF-IDF may be realized for instance."
   ]
  },
  {
   "cell_type": "code",
   "execution_count": 51,
   "metadata": {
    "ExecuteTime": {
     "end_time": "2020-12-04T15:06:55.174679Z",
     "start_time": "2020-12-04T15:06:55.102888Z"
    }
   },
   "outputs": [
    {
     "data": {
      "text/plain": [
       "NMF(alpha=0.1, init='nndsvd', l1_ratio=0, n_components=7, random_state=42)"
      ]
     },
     "execution_count": 51,
     "metadata": {},
     "output_type": "execute_result"
    }
   ],
   "source": [
    "from sklearn.decomposition import NMF\n",
    "\n",
    "nmf=NMF(n_components=7,\n",
    "        init='nndsvd',\n",
    "        alpha=.1,\n",
    "        l1_ratio=0, # L2 penalty\n",
    "        random_state=42)\n",
    "nmf.fit(X_tfidf)"
   ]
  },
  {
   "cell_type": "code",
   "execution_count": 52,
   "metadata": {
    "ExecuteTime": {
     "end_time": "2020-12-04T15:06:56.099501Z",
     "start_time": "2020-12-04T15:06:56.092635Z"
    }
   },
   "outputs": [
    {
     "name": "stdout",
     "output_type": "stream",
     "text": [
      "Topic 0:\n",
      "com flipkart guarantee replacement shipping cash genuine day delivery buy\n",
      "Topic 1:\n",
      "watch analog men discount india great woman sonata maximum dial\n",
      "Topic 2:\n",
      "mug coffee ceramic perfect tea gift prithish printland one love\n",
      "Topic 3:\n",
      "baby girl details cotton fabric dress boy sleeve neck shirt\n",
      "Topic 4:\n",
      "rockmantra ceramic mug stays porcelain permanent thrill start making years\n",
      "Topic 5:\n",
      "laptop warranty skin inch cover design print pack model color\n",
      "Topic 6:\n",
      "abstract blanket double single com flipkart quilt genuine shipping cash\n"
     ]
    }
   ],
   "source": [
    "no_top_words = 10\n",
    "display_topics(nmf,\n",
    "               vect_tfidf.get_feature_names(),\n",
    "               no_top_words)"
   ]
  },
  {
   "cell_type": "markdown",
   "metadata": {},
   "source": [
    "Contrary to the LDA, categories are less intuitive. Let's see how each category has been assigned."
   ]
  },
  {
   "cell_type": "code",
   "execution_count": 53,
   "metadata": {
    "ExecuteTime": {
     "end_time": "2020-12-04T15:06:58.387280Z",
     "start_time": "2020-12-04T15:06:58.376955Z"
    }
   },
   "outputs": [
    {
     "data": {
      "text/plain": [
       "{0: 'Beauty and Personal Care',\n",
       " 1: 'Watches',\n",
       " 2: 'Kitchen & Dining',\n",
       " 3: 'Baby Care',\n",
       " 4: 'Kitchen & Dining',\n",
       " 5: 'Home Decor & Festive Needs',\n",
       " 6: 'Home Furnishing'}"
      ]
     },
     "execution_count": 53,
     "metadata": {},
     "output_type": "execute_result"
    }
   ],
   "source": [
    "labels_tfidf = nmf.transform(X_bow).argsort(axis=1)[:, -1]\n",
    "dic_tfidf = assign_cluster(labels_tfidf)\n",
    "dic_tfidf"
   ]
  },
  {
   "cell_type": "markdown",
   "metadata": {},
   "source": [
    "This time, the *Home Furnishing* category has been identify, but not the *computer* category. Let's inspect the model performance by displaying the confusion matrix."
   ]
  },
  {
   "cell_type": "code",
   "execution_count": 54,
   "metadata": {
    "ExecuteTime": {
     "end_time": "2020-12-04T15:07:00.492939Z",
     "start_time": "2020-12-04T15:07:00.469305Z"
    }
   },
   "outputs": [
    {
     "name": "stdout",
     "output_type": "stream",
     "text": [
      "accuracy: 0.5123809523809524\n",
      "recall: 0.5123809523809524\n",
      "precision: 0.5973556707693956\n"
     ]
    },
    {
     "data": {
      "text/html": [
       "<div>\n",
       "<style scoped>\n",
       "    .dataframe tbody tr th:only-of-type {\n",
       "        vertical-align: middle;\n",
       "    }\n",
       "\n",
       "    .dataframe tbody tr th {\n",
       "        vertical-align: top;\n",
       "    }\n",
       "\n",
       "    .dataframe thead th {\n",
       "        text-align: right;\n",
       "    }\n",
       "</style>\n",
       "<table border=\"1\" class=\"dataframe\">\n",
       "  <thead>\n",
       "    <tr style=\"text-align: right;\">\n",
       "      <th></th>\n",
       "      <th>Baby Care_pred</th>\n",
       "      <th>Beauty and Personal Care_pred</th>\n",
       "      <th>Computers_pred</th>\n",
       "      <th>Home Decor &amp; Festive Needs_pred</th>\n",
       "      <th>Home Furnishing_pred</th>\n",
       "      <th>Kitchen &amp; Dining_pred</th>\n",
       "      <th>Watches_pred</th>\n",
       "    </tr>\n",
       "  </thead>\n",
       "  <tbody>\n",
       "    <tr>\n",
       "      <th>Baby Care_true</th>\n",
       "      <td>91</td>\n",
       "      <td>31</td>\n",
       "      <td>0</td>\n",
       "      <td>21</td>\n",
       "      <td>5</td>\n",
       "      <td>2</td>\n",
       "      <td>0</td>\n",
       "    </tr>\n",
       "    <tr>\n",
       "      <th>Beauty and Personal Care_true</th>\n",
       "      <td>5</td>\n",
       "      <td>105</td>\n",
       "      <td>0</td>\n",
       "      <td>38</td>\n",
       "      <td>0</td>\n",
       "      <td>0</td>\n",
       "      <td>2</td>\n",
       "    </tr>\n",
       "    <tr>\n",
       "      <th>Computers_true</th>\n",
       "      <td>0</td>\n",
       "      <td>94</td>\n",
       "      <td>0</td>\n",
       "      <td>56</td>\n",
       "      <td>0</td>\n",
       "      <td>0</td>\n",
       "      <td>0</td>\n",
       "    </tr>\n",
       "    <tr>\n",
       "      <th>Home Decor &amp; Festive Needs_true</th>\n",
       "      <td>1</td>\n",
       "      <td>76</td>\n",
       "      <td>0</td>\n",
       "      <td>66</td>\n",
       "      <td>1</td>\n",
       "      <td>6</td>\n",
       "      <td>0</td>\n",
       "    </tr>\n",
       "    <tr>\n",
       "      <th>Home Furnishing_true</th>\n",
       "      <td>8</td>\n",
       "      <td>23</td>\n",
       "      <td>0</td>\n",
       "      <td>57</td>\n",
       "      <td>62</td>\n",
       "      <td>0</td>\n",
       "      <td>0</td>\n",
       "    </tr>\n",
       "    <tr>\n",
       "      <th>Kitchen &amp; Dining_true</th>\n",
       "      <td>0</td>\n",
       "      <td>36</td>\n",
       "      <td>0</td>\n",
       "      <td>42</td>\n",
       "      <td>0</td>\n",
       "      <td>72</td>\n",
       "      <td>0</td>\n",
       "    </tr>\n",
       "    <tr>\n",
       "      <th>Watches_true</th>\n",
       "      <td>0</td>\n",
       "      <td>4</td>\n",
       "      <td>0</td>\n",
       "      <td>4</td>\n",
       "      <td>0</td>\n",
       "      <td>0</td>\n",
       "      <td>142</td>\n",
       "    </tr>\n",
       "  </tbody>\n",
       "</table>\n",
       "</div>"
      ],
      "text/plain": [
       "                                 Baby Care_pred  \\\n",
       "Baby Care_true                               91   \n",
       "Beauty and Personal Care_true                 5   \n",
       "Computers_true                                0   \n",
       "Home Decor & Festive Needs_true               1   \n",
       "Home Furnishing_true                          8   \n",
       "Kitchen & Dining_true                         0   \n",
       "Watches_true                                  0   \n",
       "\n",
       "                                 Beauty and Personal Care_pred  \\\n",
       "Baby Care_true                                              31   \n",
       "Beauty and Personal Care_true                              105   \n",
       "Computers_true                                              94   \n",
       "Home Decor & Festive Needs_true                             76   \n",
       "Home Furnishing_true                                        23   \n",
       "Kitchen & Dining_true                                       36   \n",
       "Watches_true                                                 4   \n",
       "\n",
       "                                 Computers_pred  \\\n",
       "Baby Care_true                                0   \n",
       "Beauty and Personal Care_true                 0   \n",
       "Computers_true                                0   \n",
       "Home Decor & Festive Needs_true               0   \n",
       "Home Furnishing_true                          0   \n",
       "Kitchen & Dining_true                         0   \n",
       "Watches_true                                  0   \n",
       "\n",
       "                                 Home Decor & Festive Needs_pred  \\\n",
       "Baby Care_true                                                21   \n",
       "Beauty and Personal Care_true                                 38   \n",
       "Computers_true                                                56   \n",
       "Home Decor & Festive Needs_true                               66   \n",
       "Home Furnishing_true                                          57   \n",
       "Kitchen & Dining_true                                         42   \n",
       "Watches_true                                                   4   \n",
       "\n",
       "                                 Home Furnishing_pred  Kitchen & Dining_pred  \\\n",
       "Baby Care_true                                      5                      2   \n",
       "Beauty and Personal Care_true                       0                      0   \n",
       "Computers_true                                      0                      0   \n",
       "Home Decor & Festive Needs_true                     1                      6   \n",
       "Home Furnishing_true                               62                      0   \n",
       "Kitchen & Dining_true                               0                     72   \n",
       "Watches_true                                        0                      0   \n",
       "\n",
       "                                 Watches_pred  \n",
       "Baby Care_true                              0  \n",
       "Beauty and Personal Care_true               2  \n",
       "Computers_true                              0  \n",
       "Home Decor & Festive Needs_true             0  \n",
       "Home Furnishing_true                        0  \n",
       "Kitchen & Dining_true                       0  \n",
       "Watches_true                              142  "
      ]
     },
     "execution_count": 54,
     "metadata": {},
     "output_type": "execute_result"
    }
   ],
   "source": [
    "confusion_matrix_tuned(dic_tfidf, labels_tfidf)"
   ]
  },
  {
   "cell_type": "markdown",
   "metadata": {},
   "source": [
    "Results looks much better than the ones get with the LDA model."
   ]
  },
  {
   "cell_type": "markdown",
   "metadata": {},
   "source": [
    "#### K-means"
   ]
  },
  {
   "cell_type": "code",
   "execution_count": 32,
   "metadata": {
    "ExecuteTime": {
     "end_time": "2020-12-04T10:57:35.859662Z",
     "start_time": "2020-12-04T10:57:35.857310Z"
    }
   },
   "outputs": [],
   "source": [
    "from sklearn.cluster import KMeans\n",
    "\n",
    "kmeans = KMeans(n_clusters=7, random_state=42)"
   ]
  },
  {
   "cell_type": "code",
   "execution_count": 33,
   "metadata": {
    "ExecuteTime": {
     "end_time": "2020-12-04T10:57:37.635656Z",
     "start_time": "2020-12-04T10:57:37.633655Z"
    }
   },
   "outputs": [],
   "source": [
    "from sklearn.preprocessing import MaxAbsScaler\n",
    "\n",
    "scaler = MaxAbsScaler()"
   ]
  },
  {
   "cell_type": "markdown",
   "metadata": {},
   "source": [
    "##### with Bag-of-words"
   ]
  },
  {
   "cell_type": "code",
   "execution_count": 92,
   "metadata": {
    "ExecuteTime": {
     "end_time": "2020-12-04T15:51:15.739211Z",
     "start_time": "2020-12-04T15:51:15.588760Z"
    }
   },
   "outputs": [
    {
     "name": "stdout",
     "output_type": "stream",
     "text": [
      "accuracy: 0.37238095238095237\n",
      "recall: 0.37238095238095237\n",
      "precision: 0.4995355169733245\n"
     ]
    },
    {
     "data": {
      "text/html": [
       "<div>\n",
       "<style scoped>\n",
       "    .dataframe tbody tr th:only-of-type {\n",
       "        vertical-align: middle;\n",
       "    }\n",
       "\n",
       "    .dataframe tbody tr th {\n",
       "        vertical-align: top;\n",
       "    }\n",
       "\n",
       "    .dataframe thead th {\n",
       "        text-align: right;\n",
       "    }\n",
       "</style>\n",
       "<table border=\"1\" class=\"dataframe\">\n",
       "  <thead>\n",
       "    <tr style=\"text-align: right;\">\n",
       "      <th></th>\n",
       "      <th>Baby Care_pred</th>\n",
       "      <th>Beauty and Personal Care_pred</th>\n",
       "      <th>Computers_pred</th>\n",
       "      <th>Home Decor &amp; Festive Needs_pred</th>\n",
       "      <th>Home Furnishing_pred</th>\n",
       "      <th>Kitchen &amp; Dining_pred</th>\n",
       "      <th>Watches_pred</th>\n",
       "    </tr>\n",
       "  </thead>\n",
       "  <tbody>\n",
       "    <tr>\n",
       "      <th>Baby Care_true</th>\n",
       "      <td>116</td>\n",
       "      <td>34</td>\n",
       "      <td>0</td>\n",
       "      <td>0</td>\n",
       "      <td>0</td>\n",
       "      <td>0</td>\n",
       "      <td>0</td>\n",
       "    </tr>\n",
       "    <tr>\n",
       "      <th>Beauty and Personal Care_true</th>\n",
       "      <td>48</td>\n",
       "      <td>102</td>\n",
       "      <td>0</td>\n",
       "      <td>0</td>\n",
       "      <td>0</td>\n",
       "      <td>0</td>\n",
       "      <td>0</td>\n",
       "    </tr>\n",
       "    <tr>\n",
       "      <th>Computers_true</th>\n",
       "      <td>49</td>\n",
       "      <td>94</td>\n",
       "      <td>7</td>\n",
       "      <td>0</td>\n",
       "      <td>0</td>\n",
       "      <td>0</td>\n",
       "      <td>0</td>\n",
       "    </tr>\n",
       "    <tr>\n",
       "      <th>Home Decor &amp; Festive Needs_true</th>\n",
       "      <td>74</td>\n",
       "      <td>76</td>\n",
       "      <td>0</td>\n",
       "      <td>0</td>\n",
       "      <td>0</td>\n",
       "      <td>0</td>\n",
       "      <td>0</td>\n",
       "    </tr>\n",
       "    <tr>\n",
       "      <th>Home Furnishing_true</th>\n",
       "      <td>76</td>\n",
       "      <td>74</td>\n",
       "      <td>0</td>\n",
       "      <td>0</td>\n",
       "      <td>0</td>\n",
       "      <td>0</td>\n",
       "      <td>0</td>\n",
       "    </tr>\n",
       "    <tr>\n",
       "      <th>Kitchen &amp; Dining_true</th>\n",
       "      <td>67</td>\n",
       "      <td>51</td>\n",
       "      <td>0</td>\n",
       "      <td>0</td>\n",
       "      <td>0</td>\n",
       "      <td>32</td>\n",
       "      <td>0</td>\n",
       "    </tr>\n",
       "    <tr>\n",
       "      <th>Watches_true</th>\n",
       "      <td>16</td>\n",
       "      <td>0</td>\n",
       "      <td>0</td>\n",
       "      <td>0</td>\n",
       "      <td>0</td>\n",
       "      <td>0</td>\n",
       "      <td>134</td>\n",
       "    </tr>\n",
       "  </tbody>\n",
       "</table>\n",
       "</div>"
      ],
      "text/plain": [
       "                                 Baby Care_pred  \\\n",
       "Baby Care_true                              116   \n",
       "Beauty and Personal Care_true                48   \n",
       "Computers_true                               49   \n",
       "Home Decor & Festive Needs_true              74   \n",
       "Home Furnishing_true                         76   \n",
       "Kitchen & Dining_true                        67   \n",
       "Watches_true                                 16   \n",
       "\n",
       "                                 Beauty and Personal Care_pred  \\\n",
       "Baby Care_true                                              34   \n",
       "Beauty and Personal Care_true                              102   \n",
       "Computers_true                                              94   \n",
       "Home Decor & Festive Needs_true                             76   \n",
       "Home Furnishing_true                                        74   \n",
       "Kitchen & Dining_true                                       51   \n",
       "Watches_true                                                 0   \n",
       "\n",
       "                                 Computers_pred  \\\n",
       "Baby Care_true                                0   \n",
       "Beauty and Personal Care_true                 0   \n",
       "Computers_true                                7   \n",
       "Home Decor & Festive Needs_true               0   \n",
       "Home Furnishing_true                          0   \n",
       "Kitchen & Dining_true                         0   \n",
       "Watches_true                                  0   \n",
       "\n",
       "                                 Home Decor & Festive Needs_pred  \\\n",
       "Baby Care_true                                                 0   \n",
       "Beauty and Personal Care_true                                  0   \n",
       "Computers_true                                                 0   \n",
       "Home Decor & Festive Needs_true                                0   \n",
       "Home Furnishing_true                                           0   \n",
       "Kitchen & Dining_true                                          0   \n",
       "Watches_true                                                   0   \n",
       "\n",
       "                                 Home Furnishing_pred  Kitchen & Dining_pred  \\\n",
       "Baby Care_true                                      0                      0   \n",
       "Beauty and Personal Care_true                       0                      0   \n",
       "Computers_true                                      0                      0   \n",
       "Home Decor & Festive Needs_true                     0                      0   \n",
       "Home Furnishing_true                                0                      0   \n",
       "Kitchen & Dining_true                               0                     32   \n",
       "Watches_true                                        0                      0   \n",
       "\n",
       "                                 Watches_pred  \n",
       "Baby Care_true                              0  \n",
       "Beauty and Personal Care_true               0  \n",
       "Computers_true                              0  \n",
       "Home Decor & Festive Needs_true             0  \n",
       "Home Furnishing_true                        0  \n",
       "Kitchen & Dining_true                       0  \n",
       "Watches_true                              134  "
      ]
     },
     "execution_count": 92,
     "metadata": {},
     "output_type": "execute_result"
    }
   ],
   "source": [
    "# Scale data\n",
    "X_bow_scaled = scaler.fit_transform(X_bow)\n",
    "# Train the K-Means\n",
    "labels_km_bow = kmeans.fit(X_bow_scaled).labels_\n",
    "# Assign each cluster with a category\n",
    "dic_km_bow = assign_cluster(labels_km_bow)\n",
    "# Get the confusion matrix\n",
    "confusion_matrix_tuned(dic_km_bow, labels_km_bow)"
   ]
  },
  {
   "cell_type": "markdown",
   "metadata": {},
   "source": [
    "The results are quite disappointing. The problem may be that we incoporate all the instances to assign the category to each label; including the instances located close to the cluster boundaries, which are more likely to be mislabeled. Let's see what happens if we only use the instances close to one centroid. Another function will be created to test various percentage of the instances, the best percentage will be returned."
   ]
  },
  {
   "cell_type": "code",
   "execution_count": 87,
   "metadata": {
    "ExecuteTime": {
     "end_time": "2020-12-04T15:46:46.493954Z",
     "start_time": "2020-12-04T15:46:46.490563Z"
    }
   },
   "outputs": [],
   "source": [
    "def mask_closest(X, model, percentile=20):\n",
    "    X_tr = model.transform(X)\n",
    "    n_clusters = X_tr.shape[1]\n",
    "    X_cluster_dist = X_tr[np.arange(len(X_tr)), model.labels_]\n",
    "    for i in range(n_clusters - 1):\n",
    "        in_cluster = (model.labels_ == i)\n",
    "        cluster_dist = X_cluster_dist[in_cluster]\n",
    "        cutoff = np.percentile(cluster_dist, percentile)\n",
    "        above_cutoff = (X_cluster_dist > cutoff)\n",
    "        X_cluster_dist[in_cluster & above_cutoff] = -1\n",
    "    return (X_cluster_dist > 0)"
   ]
  },
  {
   "cell_type": "code",
   "execution_count": 101,
   "metadata": {
    "ExecuteTime": {
     "end_time": "2020-12-04T15:58:04.212170Z",
     "start_time": "2020-12-04T15:58:04.208936Z"
    }
   },
   "outputs": [],
   "source": [
    "def best_percentile(X, model):\n",
    "    accuracy_scores = np.zeros(10)\n",
    "    percentile_values = np.linspace(10, 100, 10)\n",
    "    for i, p in enumerate(percentile_values):\n",
    "        mask = mask_closest(X, model, percentile=p)\n",
    "        dic = assign_cluster(model.labels_, mask)\n",
    "        y_true = categories.values\n",
    "        y_pred = [dic[label] for label in model.labels_]\n",
    "        accuracy_scores[i] = accuracy_score(y_true, y_pred)\n",
    "    return percentile_values[np.argmax(accuracy_scores)]"
   ]
  },
  {
   "cell_type": "code",
   "execution_count": 98,
   "metadata": {
    "ExecuteTime": {
     "end_time": "2020-12-04T15:53:57.474271Z",
     "start_time": "2020-12-04T15:53:57.385307Z"
    }
   },
   "outputs": [
    {
     "name": "stdout",
     "output_type": "stream",
     "text": [
      "the best percentile is: 100\n",
      "accuracy: 0.37238095238095237\n",
      "recall: 0.37238095238095237\n",
      "precision: 0.4995355169733245\n"
     ]
    },
    {
     "data": {
      "text/html": [
       "<div>\n",
       "<style scoped>\n",
       "    .dataframe tbody tr th:only-of-type {\n",
       "        vertical-align: middle;\n",
       "    }\n",
       "\n",
       "    .dataframe tbody tr th {\n",
       "        vertical-align: top;\n",
       "    }\n",
       "\n",
       "    .dataframe thead th {\n",
       "        text-align: right;\n",
       "    }\n",
       "</style>\n",
       "<table border=\"1\" class=\"dataframe\">\n",
       "  <thead>\n",
       "    <tr style=\"text-align: right;\">\n",
       "      <th></th>\n",
       "      <th>Baby Care_pred</th>\n",
       "      <th>Beauty and Personal Care_pred</th>\n",
       "      <th>Computers_pred</th>\n",
       "      <th>Home Decor &amp; Festive Needs_pred</th>\n",
       "      <th>Home Furnishing_pred</th>\n",
       "      <th>Kitchen &amp; Dining_pred</th>\n",
       "      <th>Watches_pred</th>\n",
       "    </tr>\n",
       "  </thead>\n",
       "  <tbody>\n",
       "    <tr>\n",
       "      <th>Baby Care_true</th>\n",
       "      <td>116</td>\n",
       "      <td>34</td>\n",
       "      <td>0</td>\n",
       "      <td>0</td>\n",
       "      <td>0</td>\n",
       "      <td>0</td>\n",
       "      <td>0</td>\n",
       "    </tr>\n",
       "    <tr>\n",
       "      <th>Beauty and Personal Care_true</th>\n",
       "      <td>48</td>\n",
       "      <td>102</td>\n",
       "      <td>0</td>\n",
       "      <td>0</td>\n",
       "      <td>0</td>\n",
       "      <td>0</td>\n",
       "      <td>0</td>\n",
       "    </tr>\n",
       "    <tr>\n",
       "      <th>Computers_true</th>\n",
       "      <td>49</td>\n",
       "      <td>94</td>\n",
       "      <td>7</td>\n",
       "      <td>0</td>\n",
       "      <td>0</td>\n",
       "      <td>0</td>\n",
       "      <td>0</td>\n",
       "    </tr>\n",
       "    <tr>\n",
       "      <th>Home Decor &amp; Festive Needs_true</th>\n",
       "      <td>74</td>\n",
       "      <td>76</td>\n",
       "      <td>0</td>\n",
       "      <td>0</td>\n",
       "      <td>0</td>\n",
       "      <td>0</td>\n",
       "      <td>0</td>\n",
       "    </tr>\n",
       "    <tr>\n",
       "      <th>Home Furnishing_true</th>\n",
       "      <td>76</td>\n",
       "      <td>74</td>\n",
       "      <td>0</td>\n",
       "      <td>0</td>\n",
       "      <td>0</td>\n",
       "      <td>0</td>\n",
       "      <td>0</td>\n",
       "    </tr>\n",
       "    <tr>\n",
       "      <th>Kitchen &amp; Dining_true</th>\n",
       "      <td>67</td>\n",
       "      <td>51</td>\n",
       "      <td>0</td>\n",
       "      <td>0</td>\n",
       "      <td>0</td>\n",
       "      <td>32</td>\n",
       "      <td>0</td>\n",
       "    </tr>\n",
       "    <tr>\n",
       "      <th>Watches_true</th>\n",
       "      <td>16</td>\n",
       "      <td>0</td>\n",
       "      <td>0</td>\n",
       "      <td>0</td>\n",
       "      <td>0</td>\n",
       "      <td>0</td>\n",
       "      <td>134</td>\n",
       "    </tr>\n",
       "  </tbody>\n",
       "</table>\n",
       "</div>"
      ],
      "text/plain": [
       "                                 Baby Care_pred  \\\n",
       "Baby Care_true                              116   \n",
       "Beauty and Personal Care_true                48   \n",
       "Computers_true                               49   \n",
       "Home Decor & Festive Needs_true              74   \n",
       "Home Furnishing_true                         76   \n",
       "Kitchen & Dining_true                        67   \n",
       "Watches_true                                 16   \n",
       "\n",
       "                                 Beauty and Personal Care_pred  \\\n",
       "Baby Care_true                                              34   \n",
       "Beauty and Personal Care_true                              102   \n",
       "Computers_true                                              94   \n",
       "Home Decor & Festive Needs_true                             76   \n",
       "Home Furnishing_true                                        74   \n",
       "Kitchen & Dining_true                                       51   \n",
       "Watches_true                                                 0   \n",
       "\n",
       "                                 Computers_pred  \\\n",
       "Baby Care_true                                0   \n",
       "Beauty and Personal Care_true                 0   \n",
       "Computers_true                                7   \n",
       "Home Decor & Festive Needs_true               0   \n",
       "Home Furnishing_true                          0   \n",
       "Kitchen & Dining_true                         0   \n",
       "Watches_true                                  0   \n",
       "\n",
       "                                 Home Decor & Festive Needs_pred  \\\n",
       "Baby Care_true                                                 0   \n",
       "Beauty and Personal Care_true                                  0   \n",
       "Computers_true                                                 0   \n",
       "Home Decor & Festive Needs_true                                0   \n",
       "Home Furnishing_true                                           0   \n",
       "Kitchen & Dining_true                                          0   \n",
       "Watches_true                                                   0   \n",
       "\n",
       "                                 Home Furnishing_pred  Kitchen & Dining_pred  \\\n",
       "Baby Care_true                                      0                      0   \n",
       "Beauty and Personal Care_true                       0                      0   \n",
       "Computers_true                                      0                      0   \n",
       "Home Decor & Festive Needs_true                     0                      0   \n",
       "Home Furnishing_true                                0                      0   \n",
       "Kitchen & Dining_true                               0                     32   \n",
       "Watches_true                                        0                      0   \n",
       "\n",
       "                                 Watches_pred  \n",
       "Baby Care_true                              0  \n",
       "Beauty and Personal Care_true               0  \n",
       "Computers_true                              0  \n",
       "Home Decor & Festive Needs_true             0  \n",
       "Home Furnishing_true                        0  \n",
       "Kitchen & Dining_true                       0  \n",
       "Watches_true                              134  "
      ]
     },
     "execution_count": 98,
     "metadata": {},
     "output_type": "execute_result"
    }
   ],
   "source": [
    "percentile = best_percentile(X_bow_scaled, kmeans)\n",
    "print(\"the best percentile is: {:.0f}\".format(percentile))\n",
    "mask = mask_closest(X_bow_scaled, kmeans, percentile)\n",
    "dic_km_bow = assign_cluster(kmeans.labels_, mask)\n",
    "# Get the confusion matrix\n",
    "confusion_matrix_tuned(dic_km_bow, kmeans.labels_)"
   ]
  },
  {
   "cell_type": "markdown",
   "metadata": {},
   "source": [
    "##### with TF-IDF"
   ]
  },
  {
   "cell_type": "code",
   "execution_count": 102,
   "metadata": {
    "ExecuteTime": {
     "end_time": "2020-12-04T15:58:08.511731Z",
     "start_time": "2020-12-04T15:58:08.270387Z"
    }
   },
   "outputs": [
    {
     "name": "stdout",
     "output_type": "stream",
     "text": [
      "the best percentile is: 100\n",
      "accuracy: 0.38095238095238093\n",
      "recall: 0.38095238095238093\n",
      "precision: 0.3571557853910795\n"
     ]
    },
    {
     "data": {
      "text/html": [
       "<div>\n",
       "<style scoped>\n",
       "    .dataframe tbody tr th:only-of-type {\n",
       "        vertical-align: middle;\n",
       "    }\n",
       "\n",
       "    .dataframe tbody tr th {\n",
       "        vertical-align: top;\n",
       "    }\n",
       "\n",
       "    .dataframe thead th {\n",
       "        text-align: right;\n",
       "    }\n",
       "</style>\n",
       "<table border=\"1\" class=\"dataframe\">\n",
       "  <thead>\n",
       "    <tr style=\"text-align: right;\">\n",
       "      <th></th>\n",
       "      <th>Baby Care_pred</th>\n",
       "      <th>Beauty and Personal Care_pred</th>\n",
       "      <th>Computers_pred</th>\n",
       "      <th>Home Decor &amp; Festive Needs_pred</th>\n",
       "      <th>Home Furnishing_pred</th>\n",
       "      <th>Kitchen &amp; Dining_pred</th>\n",
       "      <th>Watches_pred</th>\n",
       "    </tr>\n",
       "  </thead>\n",
       "  <tbody>\n",
       "    <tr>\n",
       "      <th>Baby Care_true</th>\n",
       "      <td>116</td>\n",
       "      <td>34</td>\n",
       "      <td>0</td>\n",
       "      <td>0</td>\n",
       "      <td>0</td>\n",
       "      <td>0</td>\n",
       "      <td>0</td>\n",
       "    </tr>\n",
       "    <tr>\n",
       "      <th>Beauty and Personal Care_true</th>\n",
       "      <td>49</td>\n",
       "      <td>101</td>\n",
       "      <td>0</td>\n",
       "      <td>0</td>\n",
       "      <td>0</td>\n",
       "      <td>0</td>\n",
       "      <td>0</td>\n",
       "    </tr>\n",
       "    <tr>\n",
       "      <th>Computers_true</th>\n",
       "      <td>60</td>\n",
       "      <td>90</td>\n",
       "      <td>0</td>\n",
       "      <td>0</td>\n",
       "      <td>0</td>\n",
       "      <td>0</td>\n",
       "      <td>0</td>\n",
       "    </tr>\n",
       "    <tr>\n",
       "      <th>Home Decor &amp; Festive Needs_true</th>\n",
       "      <td>74</td>\n",
       "      <td>76</td>\n",
       "      <td>0</td>\n",
       "      <td>0</td>\n",
       "      <td>0</td>\n",
       "      <td>0</td>\n",
       "      <td>0</td>\n",
       "    </tr>\n",
       "    <tr>\n",
       "      <th>Home Furnishing_true</th>\n",
       "      <td>76</td>\n",
       "      <td>74</td>\n",
       "      <td>0</td>\n",
       "      <td>0</td>\n",
       "      <td>0</td>\n",
       "      <td>0</td>\n",
       "      <td>0</td>\n",
       "    </tr>\n",
       "    <tr>\n",
       "      <th>Kitchen &amp; Dining_true</th>\n",
       "      <td>51</td>\n",
       "      <td>50</td>\n",
       "      <td>0</td>\n",
       "      <td>0</td>\n",
       "      <td>0</td>\n",
       "      <td>49</td>\n",
       "      <td>0</td>\n",
       "    </tr>\n",
       "    <tr>\n",
       "      <th>Watches_true</th>\n",
       "      <td>16</td>\n",
       "      <td>0</td>\n",
       "      <td>0</td>\n",
       "      <td>0</td>\n",
       "      <td>0</td>\n",
       "      <td>0</td>\n",
       "      <td>134</td>\n",
       "    </tr>\n",
       "  </tbody>\n",
       "</table>\n",
       "</div>"
      ],
      "text/plain": [
       "                                 Baby Care_pred  \\\n",
       "Baby Care_true                              116   \n",
       "Beauty and Personal Care_true                49   \n",
       "Computers_true                               60   \n",
       "Home Decor & Festive Needs_true              74   \n",
       "Home Furnishing_true                         76   \n",
       "Kitchen & Dining_true                        51   \n",
       "Watches_true                                 16   \n",
       "\n",
       "                                 Beauty and Personal Care_pred  \\\n",
       "Baby Care_true                                              34   \n",
       "Beauty and Personal Care_true                              101   \n",
       "Computers_true                                              90   \n",
       "Home Decor & Festive Needs_true                             76   \n",
       "Home Furnishing_true                                        74   \n",
       "Kitchen & Dining_true                                       50   \n",
       "Watches_true                                                 0   \n",
       "\n",
       "                                 Computers_pred  \\\n",
       "Baby Care_true                                0   \n",
       "Beauty and Personal Care_true                 0   \n",
       "Computers_true                                0   \n",
       "Home Decor & Festive Needs_true               0   \n",
       "Home Furnishing_true                          0   \n",
       "Kitchen & Dining_true                         0   \n",
       "Watches_true                                  0   \n",
       "\n",
       "                                 Home Decor & Festive Needs_pred  \\\n",
       "Baby Care_true                                                 0   \n",
       "Beauty and Personal Care_true                                  0   \n",
       "Computers_true                                                 0   \n",
       "Home Decor & Festive Needs_true                                0   \n",
       "Home Furnishing_true                                           0   \n",
       "Kitchen & Dining_true                                          0   \n",
       "Watches_true                                                   0   \n",
       "\n",
       "                                 Home Furnishing_pred  Kitchen & Dining_pred  \\\n",
       "Baby Care_true                                      0                      0   \n",
       "Beauty and Personal Care_true                       0                      0   \n",
       "Computers_true                                      0                      0   \n",
       "Home Decor & Festive Needs_true                     0                      0   \n",
       "Home Furnishing_true                                0                      0   \n",
       "Kitchen & Dining_true                               0                     49   \n",
       "Watches_true                                        0                      0   \n",
       "\n",
       "                                 Watches_pred  \n",
       "Baby Care_true                              0  \n",
       "Beauty and Personal Care_true               0  \n",
       "Computers_true                              0  \n",
       "Home Decor & Festive Needs_true             0  \n",
       "Home Furnishing_true                        0  \n",
       "Kitchen & Dining_true                       0  \n",
       "Watches_true                              134  "
      ]
     },
     "execution_count": 102,
     "metadata": {},
     "output_type": "execute_result"
    }
   ],
   "source": [
    "# Scale data\n",
    "X_tfidf_scaled = scaler.fit_transform(X_tfidf)\n",
    "# Train the K-Means\n",
    "labels_km_tfidf = kmeans.fit(X_tfidf_scaled).labels_\n",
    "# Assign each cluster with a category\n",
    "percentile = best_percentile(X_tfidf_scaled, kmeans)\n",
    "print(\"the best percentile is: {:.0f}\".format(percentile))\n",
    "mask = mask_closest(X_tfidf_scaled, kmeans, percentile)\n",
    "dic_km_tfidf = assign_cluster(kmeans.labels_, mask)\n",
    "# Get the confusion matrix\n",
    "confusion_matrix_tuned(dic_km_tfidf, labels_km_tfidf)"
   ]
  },
  {
   "cell_type": "markdown",
   "metadata": {},
   "source": [
    "##### with Word2Vec"
   ]
  },
  {
   "cell_type": "code",
   "execution_count": 134,
   "metadata": {
    "ExecuteTime": {
     "end_time": "2020-12-04T16:30:26.423212Z",
     "start_time": "2020-12-04T16:30:26.238920Z"
    }
   },
   "outputs": [
    {
     "name": "stdout",
     "output_type": "stream",
     "text": [
      "the best percentile is: 40\n",
      "accuracy: 0.5942857142857143\n",
      "recall: 0.5942857142857143\n",
      "precision: 0.6987069747513855\n"
     ]
    },
    {
     "data": {
      "text/html": [
       "<div>\n",
       "<style scoped>\n",
       "    .dataframe tbody tr th:only-of-type {\n",
       "        vertical-align: middle;\n",
       "    }\n",
       "\n",
       "    .dataframe tbody tr th {\n",
       "        vertical-align: top;\n",
       "    }\n",
       "\n",
       "    .dataframe thead th {\n",
       "        text-align: right;\n",
       "    }\n",
       "</style>\n",
       "<table border=\"1\" class=\"dataframe\">\n",
       "  <thead>\n",
       "    <tr style=\"text-align: right;\">\n",
       "      <th></th>\n",
       "      <th>Baby Care_pred</th>\n",
       "      <th>Beauty and Personal Care_pred</th>\n",
       "      <th>Computers_pred</th>\n",
       "      <th>Home Decor &amp; Festive Needs_pred</th>\n",
       "      <th>Home Furnishing_pred</th>\n",
       "      <th>Kitchen &amp; Dining_pred</th>\n",
       "      <th>Watches_pred</th>\n",
       "    </tr>\n",
       "  </thead>\n",
       "  <tbody>\n",
       "    <tr>\n",
       "      <th>Baby Care_true</th>\n",
       "      <td>90</td>\n",
       "      <td>0</td>\n",
       "      <td>0</td>\n",
       "      <td>14</td>\n",
       "      <td>20</td>\n",
       "      <td>24</td>\n",
       "      <td>2</td>\n",
       "    </tr>\n",
       "    <tr>\n",
       "      <th>Beauty and Personal Care_true</th>\n",
       "      <td>1</td>\n",
       "      <td>80</td>\n",
       "      <td>2</td>\n",
       "      <td>21</td>\n",
       "      <td>0</td>\n",
       "      <td>46</td>\n",
       "      <td>0</td>\n",
       "    </tr>\n",
       "    <tr>\n",
       "      <th>Computers_true</th>\n",
       "      <td>0</td>\n",
       "      <td>71</td>\n",
       "      <td>75</td>\n",
       "      <td>3</td>\n",
       "      <td>0</td>\n",
       "      <td>1</td>\n",
       "      <td>0</td>\n",
       "    </tr>\n",
       "    <tr>\n",
       "      <th>Home Decor &amp; Festive Needs_true</th>\n",
       "      <td>0</td>\n",
       "      <td>0</td>\n",
       "      <td>1</td>\n",
       "      <td>72</td>\n",
       "      <td>0</td>\n",
       "      <td>75</td>\n",
       "      <td>2</td>\n",
       "    </tr>\n",
       "    <tr>\n",
       "      <th>Home Furnishing_true</th>\n",
       "      <td>5</td>\n",
       "      <td>0</td>\n",
       "      <td>0</td>\n",
       "      <td>0</td>\n",
       "      <td>74</td>\n",
       "      <td>71</td>\n",
       "      <td>0</td>\n",
       "    </tr>\n",
       "    <tr>\n",
       "      <th>Kitchen &amp; Dining_true</th>\n",
       "      <td>0</td>\n",
       "      <td>2</td>\n",
       "      <td>1</td>\n",
       "      <td>48</td>\n",
       "      <td>1</td>\n",
       "      <td>98</td>\n",
       "      <td>0</td>\n",
       "    </tr>\n",
       "    <tr>\n",
       "      <th>Watches_true</th>\n",
       "      <td>0</td>\n",
       "      <td>0</td>\n",
       "      <td>2</td>\n",
       "      <td>0</td>\n",
       "      <td>0</td>\n",
       "      <td>13</td>\n",
       "      <td>135</td>\n",
       "    </tr>\n",
       "  </tbody>\n",
       "</table>\n",
       "</div>"
      ],
      "text/plain": [
       "                                 Baby Care_pred  \\\n",
       "Baby Care_true                               90   \n",
       "Beauty and Personal Care_true                 1   \n",
       "Computers_true                                0   \n",
       "Home Decor & Festive Needs_true               0   \n",
       "Home Furnishing_true                          5   \n",
       "Kitchen & Dining_true                         0   \n",
       "Watches_true                                  0   \n",
       "\n",
       "                                 Beauty and Personal Care_pred  \\\n",
       "Baby Care_true                                               0   \n",
       "Beauty and Personal Care_true                               80   \n",
       "Computers_true                                              71   \n",
       "Home Decor & Festive Needs_true                              0   \n",
       "Home Furnishing_true                                         0   \n",
       "Kitchen & Dining_true                                        2   \n",
       "Watches_true                                                 0   \n",
       "\n",
       "                                 Computers_pred  \\\n",
       "Baby Care_true                                0   \n",
       "Beauty and Personal Care_true                 2   \n",
       "Computers_true                               75   \n",
       "Home Decor & Festive Needs_true               1   \n",
       "Home Furnishing_true                          0   \n",
       "Kitchen & Dining_true                         1   \n",
       "Watches_true                                  2   \n",
       "\n",
       "                                 Home Decor & Festive Needs_pred  \\\n",
       "Baby Care_true                                                14   \n",
       "Beauty and Personal Care_true                                 21   \n",
       "Computers_true                                                 3   \n",
       "Home Decor & Festive Needs_true                               72   \n",
       "Home Furnishing_true                                           0   \n",
       "Kitchen & Dining_true                                         48   \n",
       "Watches_true                                                   0   \n",
       "\n",
       "                                 Home Furnishing_pred  Kitchen & Dining_pred  \\\n",
       "Baby Care_true                                     20                     24   \n",
       "Beauty and Personal Care_true                       0                     46   \n",
       "Computers_true                                      0                      1   \n",
       "Home Decor & Festive Needs_true                     0                     75   \n",
       "Home Furnishing_true                               74                     71   \n",
       "Kitchen & Dining_true                               1                     98   \n",
       "Watches_true                                        0                     13   \n",
       "\n",
       "                                 Watches_pred  \n",
       "Baby Care_true                              2  \n",
       "Beauty and Personal Care_true               0  \n",
       "Computers_true                              0  \n",
       "Home Decor & Festive Needs_true             2  \n",
       "Home Furnishing_true                        0  \n",
       "Kitchen & Dining_true                       0  \n",
       "Watches_true                              135  "
      ]
     },
     "execution_count": 134,
     "metadata": {},
     "output_type": "execute_result"
    }
   ],
   "source": [
    "# Scale data\n",
    "X_w2v_scaled = scaler.fit_transform(X_w2v)\n",
    "# Train the K-Means\n",
    "labels_km_w2v = kmeans.fit(X_w2v_scaled).labels_\n",
    "# Assign each cluster with a category\n",
    "percentile = best_percentile(X_w2v_scaled, kmeans)\n",
    "print(\"the best percentile is: {:.0f}\".format(percentile))\n",
    "mask = mask_closest(X_w2v_scaled, kmeans, percentile)\n",
    "dic_km_w2v = assign_cluster(kmeans.labels_, mask)\n",
    "# Get the confusion matrix\n",
    "confusion_matrix_tuned(dic_km_w2v, labels_km_w2v)"
   ]
  },
  {
   "cell_type": "markdown",
   "metadata": {},
   "source": [
    "#### Agglomerative Clustering (Ward)"
   ]
  },
  {
   "cell_type": "code",
   "execution_count": 126,
   "metadata": {
    "ExecuteTime": {
     "end_time": "2020-12-04T16:21:19.876161Z",
     "start_time": "2020-12-04T16:21:19.873281Z"
    }
   },
   "outputs": [],
   "source": [
    "from sklearn.neighbors import kneighbors_graph\n",
    "from sklearn.cluster import AgglomerativeClustering\n",
    "\n",
    "def ward_model(X, n_clusters):\n",
    "    # Connectivity matrix\n",
    "    connectivity = kneighbors_graph(X, n_neighbors=25,\n",
    "                                    include_self=False)\n",
    "    # make connectivity symmetric\n",
    "    connectivity = 0.5 * (connectivity + connectivity.T)\n",
    "    # Create the ward model\n",
    "    ward = AgglomerativeClustering(n_clusters,\n",
    "                                   linkage='ward',\n",
    "                                   connectivity=connectivity)\n",
    "    return ward"
   ]
  },
  {
   "cell_type": "markdown",
   "metadata": {},
   "source": [
    "##### with bag-of-words"
   ]
  },
  {
   "cell_type": "code",
   "execution_count": 122,
   "metadata": {
    "ExecuteTime": {
     "end_time": "2020-12-04T16:16:32.715348Z",
     "start_time": "2020-12-04T16:16:31.865799Z"
    }
   },
   "outputs": [
    {
     "name": "stdout",
     "output_type": "stream",
     "text": [
      "accuracy: 0.38285714285714284\n",
      "recall: 0.38285714285714284\n",
      "precision: 0.5002214839424142\n"
     ]
    },
    {
     "data": {
      "text/html": [
       "<div>\n",
       "<style scoped>\n",
       "    .dataframe tbody tr th:only-of-type {\n",
       "        vertical-align: middle;\n",
       "    }\n",
       "\n",
       "    .dataframe tbody tr th {\n",
       "        vertical-align: top;\n",
       "    }\n",
       "\n",
       "    .dataframe thead th {\n",
       "        text-align: right;\n",
       "    }\n",
       "</style>\n",
       "<table border=\"1\" class=\"dataframe\">\n",
       "  <thead>\n",
       "    <tr style=\"text-align: right;\">\n",
       "      <th></th>\n",
       "      <th>Baby Care_pred</th>\n",
       "      <th>Beauty and Personal Care_pred</th>\n",
       "      <th>Computers_pred</th>\n",
       "      <th>Home Decor &amp; Festive Needs_pred</th>\n",
       "      <th>Home Furnishing_pred</th>\n",
       "      <th>Kitchen &amp; Dining_pred</th>\n",
       "      <th>Watches_pred</th>\n",
       "    </tr>\n",
       "  </thead>\n",
       "  <tbody>\n",
       "    <tr>\n",
       "      <th>Baby Care_true</th>\n",
       "      <td>116</td>\n",
       "      <td>34</td>\n",
       "      <td>0</td>\n",
       "      <td>0</td>\n",
       "      <td>0</td>\n",
       "      <td>0</td>\n",
       "      <td>0</td>\n",
       "    </tr>\n",
       "    <tr>\n",
       "      <th>Beauty and Personal Care_true</th>\n",
       "      <td>49</td>\n",
       "      <td>101</td>\n",
       "      <td>0</td>\n",
       "      <td>0</td>\n",
       "      <td>0</td>\n",
       "      <td>0</td>\n",
       "      <td>0</td>\n",
       "    </tr>\n",
       "    <tr>\n",
       "      <th>Computers_true</th>\n",
       "      <td>49</td>\n",
       "      <td>94</td>\n",
       "      <td>7</td>\n",
       "      <td>0</td>\n",
       "      <td>0</td>\n",
       "      <td>0</td>\n",
       "      <td>0</td>\n",
       "    </tr>\n",
       "    <tr>\n",
       "      <th>Home Decor &amp; Festive Needs_true</th>\n",
       "      <td>74</td>\n",
       "      <td>76</td>\n",
       "      <td>0</td>\n",
       "      <td>0</td>\n",
       "      <td>0</td>\n",
       "      <td>0</td>\n",
       "      <td>0</td>\n",
       "    </tr>\n",
       "    <tr>\n",
       "      <th>Home Furnishing_true</th>\n",
       "      <td>76</td>\n",
       "      <td>74</td>\n",
       "      <td>0</td>\n",
       "      <td>0</td>\n",
       "      <td>0</td>\n",
       "      <td>0</td>\n",
       "      <td>0</td>\n",
       "    </tr>\n",
       "    <tr>\n",
       "      <th>Kitchen &amp; Dining_true</th>\n",
       "      <td>55</td>\n",
       "      <td>51</td>\n",
       "      <td>0</td>\n",
       "      <td>0</td>\n",
       "      <td>0</td>\n",
       "      <td>44</td>\n",
       "      <td>0</td>\n",
       "    </tr>\n",
       "    <tr>\n",
       "      <th>Watches_true</th>\n",
       "      <td>16</td>\n",
       "      <td>0</td>\n",
       "      <td>0</td>\n",
       "      <td>0</td>\n",
       "      <td>0</td>\n",
       "      <td>0</td>\n",
       "      <td>134</td>\n",
       "    </tr>\n",
       "  </tbody>\n",
       "</table>\n",
       "</div>"
      ],
      "text/plain": [
       "                                 Baby Care_pred  \\\n",
       "Baby Care_true                              116   \n",
       "Beauty and Personal Care_true                49   \n",
       "Computers_true                               49   \n",
       "Home Decor & Festive Needs_true              74   \n",
       "Home Furnishing_true                         76   \n",
       "Kitchen & Dining_true                        55   \n",
       "Watches_true                                 16   \n",
       "\n",
       "                                 Beauty and Personal Care_pred  \\\n",
       "Baby Care_true                                              34   \n",
       "Beauty and Personal Care_true                              101   \n",
       "Computers_true                                              94   \n",
       "Home Decor & Festive Needs_true                             76   \n",
       "Home Furnishing_true                                        74   \n",
       "Kitchen & Dining_true                                       51   \n",
       "Watches_true                                                 0   \n",
       "\n",
       "                                 Computers_pred  \\\n",
       "Baby Care_true                                0   \n",
       "Beauty and Personal Care_true                 0   \n",
       "Computers_true                                7   \n",
       "Home Decor & Festive Needs_true               0   \n",
       "Home Furnishing_true                          0   \n",
       "Kitchen & Dining_true                         0   \n",
       "Watches_true                                  0   \n",
       "\n",
       "                                 Home Decor & Festive Needs_pred  \\\n",
       "Baby Care_true                                                 0   \n",
       "Beauty and Personal Care_true                                  0   \n",
       "Computers_true                                                 0   \n",
       "Home Decor & Festive Needs_true                                0   \n",
       "Home Furnishing_true                                           0   \n",
       "Kitchen & Dining_true                                          0   \n",
       "Watches_true                                                   0   \n",
       "\n",
       "                                 Home Furnishing_pred  Kitchen & Dining_pred  \\\n",
       "Baby Care_true                                      0                      0   \n",
       "Beauty and Personal Care_true                       0                      0   \n",
       "Computers_true                                      0                      0   \n",
       "Home Decor & Festive Needs_true                     0                      0   \n",
       "Home Furnishing_true                                0                      0   \n",
       "Kitchen & Dining_true                               0                     44   \n",
       "Watches_true                                        0                      0   \n",
       "\n",
       "                                 Watches_pred  \n",
       "Baby Care_true                              0  \n",
       "Beauty and Personal Care_true               0  \n",
       "Computers_true                              0  \n",
       "Home Decor & Festive Needs_true             0  \n",
       "Home Furnishing_true                        0  \n",
       "Kitchen & Dining_true                       0  \n",
       "Watches_true                              134  "
      ]
     },
     "execution_count": 122,
     "metadata": {},
     "output_type": "execute_result"
    }
   ],
   "source": [
    "# Train the ward model\n",
    "ward_bow = ward_model(X_bow_scaled, 7)\n",
    "labels_ward_bow = ward_bow.fit(X_bow_scaled.toarray()).labels_\n",
    "# Assign each cluster with a category\n",
    "dic_ward_bow = assign_cluster(labels_ward_bow)\n",
    "# Get the confusion matrix\n",
    "confusion_matrix_tuned(dic_ward_bow, labels_ward_bow)"
   ]
  },
  {
   "cell_type": "markdown",
   "metadata": {},
   "source": [
    "##### with TF-IDF"
   ]
  },
  {
   "cell_type": "code",
   "execution_count": 123,
   "metadata": {
    "ExecuteTime": {
     "end_time": "2020-12-04T16:18:10.881947Z",
     "start_time": "2020-12-04T16:18:10.093123Z"
    }
   },
   "outputs": [
    {
     "name": "stdout",
     "output_type": "stream",
     "text": [
      "accuracy: 0.43238095238095237\n",
      "recall: 0.43238095238095237\n",
      "precision: 0.42944241763833285\n"
     ]
    },
    {
     "data": {
      "text/html": [
       "<div>\n",
       "<style scoped>\n",
       "    .dataframe tbody tr th:only-of-type {\n",
       "        vertical-align: middle;\n",
       "    }\n",
       "\n",
       "    .dataframe tbody tr th {\n",
       "        vertical-align: top;\n",
       "    }\n",
       "\n",
       "    .dataframe thead th {\n",
       "        text-align: right;\n",
       "    }\n",
       "</style>\n",
       "<table border=\"1\" class=\"dataframe\">\n",
       "  <thead>\n",
       "    <tr style=\"text-align: right;\">\n",
       "      <th></th>\n",
       "      <th>Baby Care_pred</th>\n",
       "      <th>Beauty and Personal Care_pred</th>\n",
       "      <th>Computers_pred</th>\n",
       "      <th>Home Decor &amp; Festive Needs_pred</th>\n",
       "      <th>Home Furnishing_pred</th>\n",
       "      <th>Kitchen &amp; Dining_pred</th>\n",
       "      <th>Watches_pred</th>\n",
       "    </tr>\n",
       "  </thead>\n",
       "  <tbody>\n",
       "    <tr>\n",
       "      <th>Baby Care_true</th>\n",
       "      <td>116</td>\n",
       "      <td>20</td>\n",
       "      <td>0</td>\n",
       "      <td>14</td>\n",
       "      <td>0</td>\n",
       "      <td>0</td>\n",
       "      <td>0</td>\n",
       "    </tr>\n",
       "    <tr>\n",
       "      <th>Beauty and Personal Care_true</th>\n",
       "      <td>49</td>\n",
       "      <td>80</td>\n",
       "      <td>0</td>\n",
       "      <td>21</td>\n",
       "      <td>0</td>\n",
       "      <td>0</td>\n",
       "      <td>0</td>\n",
       "    </tr>\n",
       "    <tr>\n",
       "      <th>Computers_true</th>\n",
       "      <td>55</td>\n",
       "      <td>68</td>\n",
       "      <td>0</td>\n",
       "      <td>27</td>\n",
       "      <td>0</td>\n",
       "      <td>0</td>\n",
       "      <td>0</td>\n",
       "    </tr>\n",
       "    <tr>\n",
       "      <th>Home Decor &amp; Festive Needs_true</th>\n",
       "      <td>71</td>\n",
       "      <td>0</td>\n",
       "      <td>0</td>\n",
       "      <td>79</td>\n",
       "      <td>0</td>\n",
       "      <td>0</td>\n",
       "      <td>0</td>\n",
       "    </tr>\n",
       "    <tr>\n",
       "      <th>Home Furnishing_true</th>\n",
       "      <td>75</td>\n",
       "      <td>75</td>\n",
       "      <td>0</td>\n",
       "      <td>0</td>\n",
       "      <td>0</td>\n",
       "      <td>0</td>\n",
       "      <td>0</td>\n",
       "    </tr>\n",
       "    <tr>\n",
       "      <th>Kitchen &amp; Dining_true</th>\n",
       "      <td>53</td>\n",
       "      <td>3</td>\n",
       "      <td>0</td>\n",
       "      <td>50</td>\n",
       "      <td>0</td>\n",
       "      <td>44</td>\n",
       "      <td>0</td>\n",
       "    </tr>\n",
       "    <tr>\n",
       "      <th>Watches_true</th>\n",
       "      <td>15</td>\n",
       "      <td>0</td>\n",
       "      <td>0</td>\n",
       "      <td>0</td>\n",
       "      <td>0</td>\n",
       "      <td>0</td>\n",
       "      <td>135</td>\n",
       "    </tr>\n",
       "  </tbody>\n",
       "</table>\n",
       "</div>"
      ],
      "text/plain": [
       "                                 Baby Care_pred  \\\n",
       "Baby Care_true                              116   \n",
       "Beauty and Personal Care_true                49   \n",
       "Computers_true                               55   \n",
       "Home Decor & Festive Needs_true              71   \n",
       "Home Furnishing_true                         75   \n",
       "Kitchen & Dining_true                        53   \n",
       "Watches_true                                 15   \n",
       "\n",
       "                                 Beauty and Personal Care_pred  \\\n",
       "Baby Care_true                                              20   \n",
       "Beauty and Personal Care_true                               80   \n",
       "Computers_true                                              68   \n",
       "Home Decor & Festive Needs_true                              0   \n",
       "Home Furnishing_true                                        75   \n",
       "Kitchen & Dining_true                                        3   \n",
       "Watches_true                                                 0   \n",
       "\n",
       "                                 Computers_pred  \\\n",
       "Baby Care_true                                0   \n",
       "Beauty and Personal Care_true                 0   \n",
       "Computers_true                                0   \n",
       "Home Decor & Festive Needs_true               0   \n",
       "Home Furnishing_true                          0   \n",
       "Kitchen & Dining_true                         0   \n",
       "Watches_true                                  0   \n",
       "\n",
       "                                 Home Decor & Festive Needs_pred  \\\n",
       "Baby Care_true                                                14   \n",
       "Beauty and Personal Care_true                                 21   \n",
       "Computers_true                                                27   \n",
       "Home Decor & Festive Needs_true                               79   \n",
       "Home Furnishing_true                                           0   \n",
       "Kitchen & Dining_true                                         50   \n",
       "Watches_true                                                   0   \n",
       "\n",
       "                                 Home Furnishing_pred  Kitchen & Dining_pred  \\\n",
       "Baby Care_true                                      0                      0   \n",
       "Beauty and Personal Care_true                       0                      0   \n",
       "Computers_true                                      0                      0   \n",
       "Home Decor & Festive Needs_true                     0                      0   \n",
       "Home Furnishing_true                                0                      0   \n",
       "Kitchen & Dining_true                               0                     44   \n",
       "Watches_true                                        0                      0   \n",
       "\n",
       "                                 Watches_pred  \n",
       "Baby Care_true                              0  \n",
       "Beauty and Personal Care_true               0  \n",
       "Computers_true                              0  \n",
       "Home Decor & Festive Needs_true             0  \n",
       "Home Furnishing_true                        0  \n",
       "Kitchen & Dining_true                       0  \n",
       "Watches_true                              135  "
      ]
     },
     "execution_count": 123,
     "metadata": {},
     "output_type": "execute_result"
    }
   ],
   "source": [
    "# Train the ward model\n",
    "ward_tfidf = ward_model(X_tfidf_scaled, 7)\n",
    "labels_ward_tfidf = ward_tfidf.fit(X_tfidf_scaled.toarray()).labels_\n",
    "# Assign each cluster with a category\n",
    "dic_ward_tfidf = assign_cluster(labels_ward_tfidf)\n",
    "# Get the confusion matrix\n",
    "confusion_matrix_tuned(dic_ward_tfidf, labels_ward_tfidf)"
   ]
  },
  {
   "cell_type": "markdown",
   "metadata": {},
   "source": [
    "##### with Word2Vec"
   ]
  },
  {
   "cell_type": "code",
   "execution_count": 135,
   "metadata": {
    "ExecuteTime": {
     "end_time": "2020-12-04T16:30:30.207913Z",
     "start_time": "2020-12-04T16:30:29.546131Z"
    }
   },
   "outputs": [
    {
     "name": "stdout",
     "output_type": "stream",
     "text": [
      "accuracy: 0.6009523809523809\n",
      "recall: 0.6009523809523809\n",
      "precision: 0.7175583651702089\n"
     ]
    },
    {
     "data": {
      "text/html": [
       "<div>\n",
       "<style scoped>\n",
       "    .dataframe tbody tr th:only-of-type {\n",
       "        vertical-align: middle;\n",
       "    }\n",
       "\n",
       "    .dataframe tbody tr th {\n",
       "        vertical-align: top;\n",
       "    }\n",
       "\n",
       "    .dataframe thead th {\n",
       "        text-align: right;\n",
       "    }\n",
       "</style>\n",
       "<table border=\"1\" class=\"dataframe\">\n",
       "  <thead>\n",
       "    <tr style=\"text-align: right;\">\n",
       "      <th></th>\n",
       "      <th>Baby Care_pred</th>\n",
       "      <th>Beauty and Personal Care_pred</th>\n",
       "      <th>Computers_pred</th>\n",
       "      <th>Home Decor &amp; Festive Needs_pred</th>\n",
       "      <th>Home Furnishing_pred</th>\n",
       "      <th>Kitchen &amp; Dining_pred</th>\n",
       "      <th>Watches_pred</th>\n",
       "    </tr>\n",
       "  </thead>\n",
       "  <tbody>\n",
       "    <tr>\n",
       "      <th>Baby Care_true</th>\n",
       "      <td>89</td>\n",
       "      <td>0</td>\n",
       "      <td>0</td>\n",
       "      <td>14</td>\n",
       "      <td>20</td>\n",
       "      <td>27</td>\n",
       "      <td>0</td>\n",
       "    </tr>\n",
       "    <tr>\n",
       "      <th>Beauty and Personal Care_true</th>\n",
       "      <td>0</td>\n",
       "      <td>80</td>\n",
       "      <td>2</td>\n",
       "      <td>5</td>\n",
       "      <td>0</td>\n",
       "      <td>63</td>\n",
       "      <td>0</td>\n",
       "    </tr>\n",
       "    <tr>\n",
       "      <th>Computers_true</th>\n",
       "      <td>0</td>\n",
       "      <td>68</td>\n",
       "      <td>75</td>\n",
       "      <td>0</td>\n",
       "      <td>0</td>\n",
       "      <td>7</td>\n",
       "      <td>0</td>\n",
       "    </tr>\n",
       "    <tr>\n",
       "      <th>Home Decor &amp; Festive Needs_true</th>\n",
       "      <td>0</td>\n",
       "      <td>0</td>\n",
       "      <td>1</td>\n",
       "      <td>75</td>\n",
       "      <td>0</td>\n",
       "      <td>72</td>\n",
       "      <td>2</td>\n",
       "    </tr>\n",
       "    <tr>\n",
       "      <th>Home Furnishing_true</th>\n",
       "      <td>0</td>\n",
       "      <td>1</td>\n",
       "      <td>0</td>\n",
       "      <td>0</td>\n",
       "      <td>73</td>\n",
       "      <td>76</td>\n",
       "      <td>0</td>\n",
       "    </tr>\n",
       "    <tr>\n",
       "      <th>Kitchen &amp; Dining_true</th>\n",
       "      <td>0</td>\n",
       "      <td>3</td>\n",
       "      <td>1</td>\n",
       "      <td>50</td>\n",
       "      <td>1</td>\n",
       "      <td>95</td>\n",
       "      <td>0</td>\n",
       "    </tr>\n",
       "    <tr>\n",
       "      <th>Watches_true</th>\n",
       "      <td>0</td>\n",
       "      <td>0</td>\n",
       "      <td>1</td>\n",
       "      <td>0</td>\n",
       "      <td>0</td>\n",
       "      <td>5</td>\n",
       "      <td>144</td>\n",
       "    </tr>\n",
       "  </tbody>\n",
       "</table>\n",
       "</div>"
      ],
      "text/plain": [
       "                                 Baby Care_pred  \\\n",
       "Baby Care_true                               89   \n",
       "Beauty and Personal Care_true                 0   \n",
       "Computers_true                                0   \n",
       "Home Decor & Festive Needs_true               0   \n",
       "Home Furnishing_true                          0   \n",
       "Kitchen & Dining_true                         0   \n",
       "Watches_true                                  0   \n",
       "\n",
       "                                 Beauty and Personal Care_pred  \\\n",
       "Baby Care_true                                               0   \n",
       "Beauty and Personal Care_true                               80   \n",
       "Computers_true                                              68   \n",
       "Home Decor & Festive Needs_true                              0   \n",
       "Home Furnishing_true                                         1   \n",
       "Kitchen & Dining_true                                        3   \n",
       "Watches_true                                                 0   \n",
       "\n",
       "                                 Computers_pred  \\\n",
       "Baby Care_true                                0   \n",
       "Beauty and Personal Care_true                 2   \n",
       "Computers_true                               75   \n",
       "Home Decor & Festive Needs_true               1   \n",
       "Home Furnishing_true                          0   \n",
       "Kitchen & Dining_true                         1   \n",
       "Watches_true                                  1   \n",
       "\n",
       "                                 Home Decor & Festive Needs_pred  \\\n",
       "Baby Care_true                                                14   \n",
       "Beauty and Personal Care_true                                  5   \n",
       "Computers_true                                                 0   \n",
       "Home Decor & Festive Needs_true                               75   \n",
       "Home Furnishing_true                                           0   \n",
       "Kitchen & Dining_true                                         50   \n",
       "Watches_true                                                   0   \n",
       "\n",
       "                                 Home Furnishing_pred  Kitchen & Dining_pred  \\\n",
       "Baby Care_true                                     20                     27   \n",
       "Beauty and Personal Care_true                       0                     63   \n",
       "Computers_true                                      0                      7   \n",
       "Home Decor & Festive Needs_true                     0                     72   \n",
       "Home Furnishing_true                               73                     76   \n",
       "Kitchen & Dining_true                               1                     95   \n",
       "Watches_true                                        0                      5   \n",
       "\n",
       "                                 Watches_pred  \n",
       "Baby Care_true                              0  \n",
       "Beauty and Personal Care_true               0  \n",
       "Computers_true                              0  \n",
       "Home Decor & Festive Needs_true             2  \n",
       "Home Furnishing_true                        0  \n",
       "Kitchen & Dining_true                       0  \n",
       "Watches_true                              144  "
      ]
     },
     "execution_count": 135,
     "metadata": {},
     "output_type": "execute_result"
    }
   ],
   "source": [
    "# Train the ward model\n",
    "ward_w2v = ward_model(X_w2v_scaled, 7)\n",
    "labels_ward_w2v = ward_w2v.fit(X_w2v_scaled).labels_\n",
    "# Assign each cluster with a category\n",
    "dic_ward_w2v = assign_cluster(labels_ward_w2v)\n",
    "# Get the confusion matrix\n",
    "confusion_matrix_tuned(dic_ward_w2v, labels_ward_w2v)"
   ]
  },
  {
   "cell_type": "markdown",
   "metadata": {},
   "source": [
    "**Our best model is Ward + Word2Vec**"
   ]
  },
  {
   "cell_type": "markdown",
   "metadata": {},
   "source": [
    "### Data Visualization"
   ]
  },
  {
   "cell_type": "markdown",
   "metadata": {},
   "source": [
    "Creating a word cloud is a good method to visualize the corpus. It consists in randomly placing words on a canvas, with sizes proportional to their frequency.  \n",
    "The `wordcloud` package enables to create it very easily. Let's build a word cloud for each cluster."
   ]
  },
  {
   "cell_type": "code",
   "execution_count": 136,
   "metadata": {
    "ExecuteTime": {
     "end_time": "2020-12-04T16:35:42.331753Z",
     "start_time": "2020-12-04T16:35:39.859563Z"
    }
   },
   "outputs": [
    {
     "data": {
      "image/png": "[encoded data removed]",
      "text/plain": [
       "<Figure size 576x576 with 1 Axes>"
      ]
     },
     "metadata": {
      "needs_background": "light"
     },
     "output_type": "display_data"
    }
   ],
   "source": [
    "from wordcloud import WordCloud\n",
    "\n",
    "# Generate the WordCloud\n",
    "wordcloud = WordCloud(width = 800, height = 800,\n",
    "                      background_color='white',\n",
    "                      min_font_size=10)\n",
    "words_flat = list(np.concatenate(corpus.values, axis=None))\n",
    "text = \" \".join(words_flat)\n",
    "wordcloud.generate(text)\n",
    "\n",
    "# Plot the WordCloud\n",
    "plt.figure(figsize=(8, 8))\n",
    "plt.imshow(wordcloud)\n",
    "plt.axis(\"off\")\n",
    "save_fig(\"WordCloud\")\n",
    "plt.show()"
   ]
  }
 ],
 "metadata": {
  "kernelspec": {
   "display_name": "Python 3",
   "language": "python",
   "name": "python3"
  },
  "language_info": {
   "codemirror_mode": {
    "name": "ipython",
    "version": 3
   },
   "file_extension": ".py",
   "mimetype": "text/x-python",
   "name": "python",
   "nbconvert_exporter": "python",
   "pygments_lexer": "ipython3",
   "version": "3.8.5"
  },
  "toc": {
   "base_numbering": 1,
   "nav_menu": {},
   "number_sections": true,
   "sideBar": true,
   "skip_h1_title": true,
   "title_cell": "Table of Contents",
   "title_sidebar": "Contents",
   "toc_cell": true,
   "toc_position": {
    "height": "calc(100% - 180px)",
    "left": "10px",
    "top": "150px",
    "width": "165px"
   },
   "toc_section_display": true,
   "toc_window_display": true
  }
 },
 "nbformat": 4,
 "nbformat_minor": 4
}
